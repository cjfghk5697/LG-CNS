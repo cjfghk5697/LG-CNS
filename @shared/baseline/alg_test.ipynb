{
 "cells": [
  {
   "cell_type": "code",
   "execution_count": 1,
   "metadata": {},
   "outputs": [],
   "source": [
    "%load_ext autoreload\n",
    "%autoreload 2\n",
    "\n",
    "\n",
    "from util import *\n",
    "from myalgorithm import algorithm\n",
    "\n"
   ]
  },
  {
   "cell_type": "code",
   "execution_count": 3,
   "metadata": {},
   "outputs": [
    {
     "name": "stdout",
     "output_type": "stream",
     "text": [
      "Best obj = 7322.13\n",
      "Best obj = 7316.27\n",
      "Best obj = 7160.298999999999\n"
     ]
    },
    {
     "ename": "TypeError",
     "evalue": "'str' object does not support item assignment",
     "output_type": "error",
     "traceback": [
      "\u001b[1;31m---------------------------------------------------------------------------\u001b[0m",
      "\u001b[1;31mTypeError\u001b[0m                                 Traceback (most recent call last)",
      "Cell \u001b[1;32mIn[3], line 46\u001b[0m\n\u001b[0;32m     42\u001b[0m     r\u001b[38;5;241m.\u001b[39mT \u001b[38;5;241m=\u001b[39m np\u001b[38;5;241m.\u001b[39mround(DIST\u001b[38;5;241m/\u001b[39mr\u001b[38;5;241m.\u001b[39mspeed \u001b[38;5;241m+\u001b[39m r\u001b[38;5;241m.\u001b[39mservice_time)\n\u001b[0;32m     44\u001b[0m checked_solution \u001b[38;5;241m=\u001b[39m solution_check(K, ALL_ORDERS, ALL_RIDERS, DIST, solution)\n\u001b[1;32m---> 46\u001b[0m \u001b[43mchecked_solution\u001b[49m\u001b[43m[\u001b[49m\u001b[38;5;124;43m'\u001b[39;49m\u001b[38;5;124;43mtime\u001b[39;49m\u001b[38;5;124;43m'\u001b[39;49m\u001b[43m]\u001b[49m \u001b[38;5;241m=\u001b[39m alg_end_time \u001b[38;5;241m-\u001b[39m alg_start_time\n\u001b[0;32m     47\u001b[0m checked_solution[\u001b[38;5;124m'\u001b[39m\u001b[38;5;124mtimelimit_exception\u001b[39m\u001b[38;5;124m'\u001b[39m] \u001b[38;5;241m=\u001b[39m (alg_end_time \u001b[38;5;241m-\u001b[39m alg_start_time) \u001b[38;5;241m>\u001b[39m timelimit \u001b[38;5;241m+\u001b[39m \u001b[38;5;241m1\u001b[39m \u001b[38;5;66;03m# allowing additional 1 second!\u001b[39;00m\n\u001b[0;32m     48\u001b[0m checked_solution[\u001b[38;5;124m'\u001b[39m\u001b[38;5;124mexception\u001b[39m\u001b[38;5;124m'\u001b[39m] \u001b[38;5;241m=\u001b[39m exception\n",
      "\u001b[1;31mTypeError\u001b[0m: 'str' object does not support item assignment"
     ]
    }
   ],
   "source": [
    "\n",
    "timelimit = 30\n",
    "problem_file = f\"C:/Users/cjfgh/vscode/LG-CNS/@shared/testfile/STAGE1_1.json\"\n",
    "\n",
    "# np.random.seed(1)\n",
    "\n",
    "with open(problem_file, 'r') as f:\n",
    "    prob = json.load(f)\n",
    "\n",
    "K = prob['K']\n",
    "\n",
    "ALL_ORDERS = [Order(order_info) for order_info in prob['ORDERS']]\n",
    "ALL_RIDERS = [Rider(rider_info) for rider_info in prob['RIDERS']]\n",
    "\n",
    "DIST = np.array(prob['DIST'])\n",
    "for r in ALL_RIDERS:\n",
    "    r.T = np.round(DIST/r.speed + r.service_time)\n",
    "\n",
    "alg_start_time = time.time()\n",
    "\n",
    "exception = None\n",
    "\n",
    "solution = None\n",
    "try:\n",
    "    # Run algorithm!\n",
    "    solution = algorithm(K, ALL_ORDERS, ALL_RIDERS, DIST, timelimit)\n",
    "except Exception as e:\n",
    "    exception = f'{e}'\n",
    "\n",
    "\n",
    "alg_end_time = time.time()\n",
    "\n",
    "with open(problem_file, 'r') as f:\n",
    "    prob = json.load(f)\n",
    "\n",
    "K = prob['K']\n",
    "\n",
    "ALL_ORDERS = [Order(order_info) for order_info in prob['ORDERS']]\n",
    "ALL_RIDERS = [Rider(rider_info) for rider_info in prob['RIDERS']]\n",
    "\n",
    "DIST = np.array(prob['DIST'])\n",
    "for r in ALL_RIDERS:\n",
    "    r.T = np.round(DIST/r.speed + r.service_time)\n",
    "\n",
    "checked_solution = solution_check(K, ALL_ORDERS, ALL_RIDERS, DIST, solution)\n",
    "\n",
    "checked_solution['time'] = alg_end_time - alg_start_time\n",
    "checked_solution['timelimit_exception'] = (alg_end_time - alg_start_time) > timelimit + 1 # allowing additional 1 second!\n",
    "checked_solution['exception'] = exception\n",
    "\n",
    "checked_solution['prob_name'] = prob['name']\n",
    "checked_solution['prob_file'] = problem_file\n",
    "\n",
    "checked_solution"
   ]
  },
  {
   "cell_type": "code",
   "execution_count": null,
   "metadata": {},
   "outputs": [],
   "source": [
    "draw_route_solution(ALL_ORDERS, checked_solution)"
   ]
  },
  {
   "cell_type": "code",
   "execution_count": null,
   "metadata": {},
   "outputs": [],
   "source": [
    "draw_bundle_solution(ALL_ORDERS, ALL_RIDERS, DIST, checked_solution)"
   ]
  }
 ],
 "metadata": {
  "kernelspec": {
   "display_name": "Python 3 (ipykernel)",
   "language": "python",
   "name": "python3"
  },
  "language_info": {
   "codemirror_mode": {
    "name": "ipython",
    "version": 3
   },
   "file_extension": ".py",
   "mimetype": "text/x-python",
   "name": "python",
   "nbconvert_exporter": "python",
   "pygments_lexer": "ipython3",
   "version": "3.11.2"
  }
 },
 "nbformat": 4,
 "nbformat_minor": 4
}
