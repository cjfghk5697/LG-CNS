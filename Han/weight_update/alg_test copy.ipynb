{
 "cells": [
  {
   "cell_type": "code",
   "execution_count": 3,
   "metadata": {},
   "outputs": [
    {
     "name": "stdout",
     "output_type": "stream",
     "text": [
      "C:\\Users\\cjfgh\\vscode\\LG-CNS\\Han\\weight_update\\based 0704\n"
     ]
    },
    {
     "name": "stderr",
     "output_type": "stream",
     "text": [
      "C:\\Users\\cjfgh\\AppData\\Roaming\\Python\\Python311\\site-packages\\IPython\\core\\magics\\osm.py:417: UserWarning: This is now an optional IPython functionality, setting dhist requires you to install the `pickleshare` library.\n",
      "  self.shell.db['dhist'] = compress_dhist(dhist)[-100:]\n"
     ]
    }
   ],
   "source": [
    "%cd \"C:\\Users\\cjfgh\\vscode\\LG-CNS\\Han\\weight_update\\based 0704\"\n"
   ]
  },
  {
   "cell_type": "code",
   "execution_count": 4,
   "metadata": {},
   "outputs": [
    {
     "name": "stdout",
     "output_type": "stream",
     "text": [
      "The autoreload extension is already loaded. To reload it, use:\n",
      "  %reload_ext autoreload\n"
     ]
    }
   ],
   "source": [
    "%load_ext autoreload\n",
    "%autoreload 2\n",
    "\n",
    "from util_0704 import *\n",
    "from myalgorithm import algorithm\n",
    "\n",
    "import pandas as pd\n",
    "\n",
    "\n",
    "import matplotlib as mpl\n",
    "from matplotlib import pyplot\n",
    "import numpy as np\n",
    "import seaborn as sns"
   ]
  },
  {
   "cell_type": "markdown",
   "metadata": {},
   "source": [
    "### 제출본"
   ]
  },
  {
   "cell_type": "code",
   "execution_count": 62,
   "metadata": {},
   "outputs": [
    {
     "name": "stdout",
     "output_type": "stream",
     "text": [
      "cluster_feasible True\n",
      "cluster_feasible True\n",
      "cluster_feasible True\n",
      "cluster_feasible True\n",
      "cluster_feasible True\n",
      "cluster_feasible True\n",
      "cluster_feasible True\n",
      "cluster_feasible True\n",
      "cluster_feasible True\n",
      "cluster_feasible True\n",
      "cluster_feasible True\n",
      "cluster_feasible True\n"
     ]
    },
    {
     "ename": "KeyboardInterrupt",
     "evalue": "",
     "output_type": "error",
     "traceback": [
      "\u001b[1;31m---------------------------------------------------------------------------\u001b[0m",
      "\u001b[1;31mKeyboardInterrupt\u001b[0m                         Traceback (most recent call last)",
      "Cell \u001b[1;32mIn[62], line 17\u001b[0m\n\u001b[0;32m     13\u001b[0m ALL_RIDERS \u001b[38;5;241m=\u001b[39m [Rider(rider_info) \u001b[38;5;28;01mfor\u001b[39;00m rider_info \u001b[38;5;129;01min\u001b[39;00m prob[\u001b[38;5;124m'\u001b[39m\u001b[38;5;124mRIDERS\u001b[39m\u001b[38;5;124m'\u001b[39m]]\n\u001b[0;32m     15\u001b[0m DIST \u001b[38;5;241m=\u001b[39m np\u001b[38;5;241m.\u001b[39marray(prob[\u001b[38;5;124m'\u001b[39m\u001b[38;5;124mDIST\u001b[39m\u001b[38;5;124m'\u001b[39m])\n\u001b[1;32m---> 17\u001b[0m solution \u001b[38;5;241m=\u001b[39m \u001b[43malgorithm\u001b[49m\u001b[43m(\u001b[49m\u001b[43mK\u001b[49m\u001b[43m,\u001b[49m\u001b[43m \u001b[49m\u001b[43mALL_ORDERS\u001b[49m\u001b[43m,\u001b[49m\u001b[43m \u001b[49m\u001b[43mALL_RIDERS\u001b[49m\u001b[43m,\u001b[49m\u001b[43m \u001b[49m\u001b[43mDIST\u001b[49m\u001b[43m,\u001b[49m\u001b[43m \u001b[49m\u001b[43mtimelimit\u001b[49m\u001b[43m)\u001b[49m\n\u001b[0;32m     19\u001b[0m \u001b[38;5;28;01mwith\u001b[39;00m \u001b[38;5;28mopen\u001b[39m(problem_file, \u001b[38;5;124m'\u001b[39m\u001b[38;5;124mr\u001b[39m\u001b[38;5;124m'\u001b[39m) \u001b[38;5;28;01mas\u001b[39;00m f:\n\u001b[0;32m     20\u001b[0m     prob \u001b[38;5;241m=\u001b[39m json\u001b[38;5;241m.\u001b[39mload(f)\n",
      "File \u001b[1;32m~\\vscode\\LG-CNS\\Han\\weight_update\\based 0704\\myalgorithm.py:48\u001b[0m, in \u001b[0;36malgorithm\u001b[1;34m(K, all_orders, all_riders, dist_mat, timelimit)\u001b[0m\n\u001b[0;32m     45\u001b[0m \u001b[38;5;28;01mif\u001b[39;00m time\u001b[38;5;241m.\u001b[39mtime() \u001b[38;5;241m-\u001b[39m start_time \u001b[38;5;241m>\u001b[39m \u001b[38;5;241m10\u001b[39m \u001b[38;5;241m-\u001b[39m avg_time:\n\u001b[0;32m     46\u001b[0m     \u001b[38;5;28;01mbreak\u001b[39;00m\n\u001b[1;32m---> 48\u001b[0m bundles, result_rider_availables, cost \u001b[38;5;241m=\u001b[39m \u001b[43mget_clustered_bundle_4_order_prefered\u001b[49m\u001b[43m(\u001b[49m\n\u001b[0;32m     49\u001b[0m \u001b[43m    \u001b[49m\u001b[43mK\u001b[49m\u001b[43m,\u001b[49m\u001b[43m \u001b[49m\u001b[43mALL_RIDERS\u001b[49m\u001b[43m,\u001b[49m\u001b[43m \u001b[49m\u001b[43mALL_ORDERS\u001b[49m\u001b[43m,\u001b[49m\u001b[43m \u001b[49m\u001b[43mDIST\u001b[49m\u001b[43m,\u001b[49m\u001b[43m \u001b[49m\u001b[43minit_availables\u001b[49m\u001b[43m,\u001b[49m\u001b[43m \u001b[49m\u001b[43mweight1\u001b[49m\u001b[43m,\u001b[49m\u001b[43m \u001b[49m\u001b[43mweight2\u001b[49m\u001b[43m,\u001b[49m\u001b[43m \u001b[49m\u001b[43mweight3\u001b[49m\u001b[43m)\u001b[49m\n\u001b[0;32m     51\u001b[0m \u001b[38;5;28;01mif\u001b[39;00m cost \u001b[38;5;241m<\u001b[39m min_init_cost:\n\u001b[0;32m     52\u001b[0m     min_init_cost \u001b[38;5;241m=\u001b[39m cost\n",
      "File \u001b[1;32m~\\vscode\\LG-CNS\\Han\\weight_update\\based 0704\\util_0704.py:142\u001b[0m, in \u001b[0;36mget_clustered_bundle_4_order_prefered\u001b[1;34m(K, ALL_RIDERS, ALL_ORDERS, DIST, init_availables, weight1, weight2, weight3)\u001b[0m\n\u001b[0;32m    139\u001b[0m     assigned_orders\u001b[38;5;241m.\u001b[39madd(\u001b[38;5;28mord\u001b[39m\u001b[38;5;241m.\u001b[39mid)\n\u001b[0;32m    141\u001b[0m cluster_bundles, _ \u001b[38;5;241m=\u001b[39m kruskal_bundling(cluster_K, cluster_Dist, cluster_orders, ALL_RIDERS, weight1, weight2, weight3, try_merging_bundles_by_dist, \u001b[38;5;241m2\u001b[39m, \u001b[38;5;124m'\u001b[39m\u001b[38;5;124mtwo_seq\u001b[39m\u001b[38;5;124m'\u001b[39m, cluster_bundles)\n\u001b[1;32m--> 142\u001b[0m cluster_bundles, _ \u001b[38;5;241m=\u001b[39m \u001b[43mkruskal_bundling\u001b[49m\u001b[43m(\u001b[49m\u001b[43mcluster_K\u001b[49m\u001b[43m,\u001b[49m\u001b[43m \u001b[49m\u001b[43mcluster_Dist\u001b[49m\u001b[43m,\u001b[49m\u001b[43m \u001b[49m\u001b[43mcluster_orders\u001b[49m\u001b[43m,\u001b[49m\u001b[43m \u001b[49m\u001b[43mALL_RIDERS\u001b[49m\u001b[43m,\u001b[49m\u001b[43m \u001b[49m\u001b[43mweight1\u001b[49m\u001b[43m,\u001b[49m\u001b[43m \u001b[49m\u001b[43mweight2\u001b[49m\u001b[43m,\u001b[49m\u001b[43m \u001b[49m\u001b[43mweight3\u001b[49m\u001b[43m,\u001b[49m\u001b[43m \u001b[49m\u001b[43mtry_merging_bundles_by_dist\u001b[49m\u001b[43m,\u001b[49m\u001b[43m \u001b[49m\u001b[38;5;241;43m4\u001b[39;49m\u001b[43m,\u001b[49m\u001b[43m \u001b[49m\u001b[38;5;124;43m'\u001b[39;49m\u001b[38;5;124;43mavg\u001b[39;49m\u001b[38;5;124;43m'\u001b[39;49m\u001b[43m,\u001b[49m\u001b[43m \u001b[49m\u001b[43mcluster_bundles\u001b[49m\u001b[43m)\u001b[49m\n\u001b[0;32m    144\u001b[0m new_cluster_bundles \u001b[38;5;241m=\u001b[39m []\n\u001b[0;32m    145\u001b[0m \u001b[38;5;28;01mfor\u001b[39;00m bundle \u001b[38;5;129;01min\u001b[39;00m cluster_bundles:\n",
      "File \u001b[1;32m~\\vscode\\LG-CNS\\Han\\weight_update\\based 0704\\util_0704.py:346\u001b[0m, in \u001b[0;36mkruskal_bundling\u001b[1;34m(K, DIST, ALL_ORDERS, ALL_RIDERS, weight1, weight2, weight3, bundle_merging_function, order_count_upper_limit, avg_method, all_bundles)\u001b[0m\n\u001b[0;32m    343\u001b[0m \u001b[38;5;28;01mif\u001b[39;00m rbn1 \u001b[38;5;241m==\u001b[39m rbn2:\n\u001b[0;32m    344\u001b[0m     \u001b[38;5;28;01mcontinue\u001b[39;00m\n\u001b[1;32m--> 346\u001b[0m new_bundle \u001b[38;5;241m=\u001b[39m \u001b[43mbundle_merging_function\u001b[49m\u001b[43m(\u001b[49m\u001b[43mK\u001b[49m\u001b[43m,\u001b[49m\u001b[43m \u001b[49m\u001b[43mDIST\u001b[49m\u001b[43m,\u001b[49m\u001b[43m \u001b[49m\u001b[43mALL_ORDERS\u001b[49m\u001b[43m,\u001b[49m\u001b[43m \u001b[49m\u001b[43mALL_RIDERS\u001b[49m\u001b[43m,\u001b[49m\u001b[43m \u001b[49m\u001b[43mall_bundles\u001b[49m\u001b[43m[\u001b[49m\u001b[43mrbn1\u001b[49m\u001b[43m]\u001b[49m\u001b[43m,\u001b[49m\u001b[43m \u001b[49m\u001b[43mall_bundles\u001b[49m\u001b[43m[\u001b[49m\u001b[43mrbn2\u001b[49m\u001b[43m]\u001b[49m\u001b[43m,\u001b[49m\u001b[43m \u001b[49m\u001b[43morder_count_upper_limit\u001b[49m\u001b[43m)\u001b[49m\n\u001b[0;32m    347\u001b[0m \u001b[38;5;28;01mif\u001b[39;00m new_bundle \u001b[38;5;129;01mis\u001b[39;00m \u001b[38;5;129;01mnot\u001b[39;00m \u001b[38;5;28;01mNone\u001b[39;00m:\n\u001b[0;32m    348\u001b[0m     all_bundles[rbn1]\u001b[38;5;241m.\u001b[39mrider\u001b[38;5;241m.\u001b[39mavailable_number \u001b[38;5;241m+\u001b[39m\u001b[38;5;241m=\u001b[39m \u001b[38;5;241m1\u001b[39m\n",
      "File \u001b[1;32m~\\vscode\\LG-CNS\\Han\\weight_update\\based 0704\\util_0704.py:706\u001b[0m, in \u001b[0;36mtry_merging_bundles_by_dist\u001b[1;34m(K, dist_mat, all_orders, all_riders, bundle1, bundle2, order_count_upper_limit, order_count_lower_limit)\u001b[0m\n\u001b[0;32m    704\u001b[0m \u001b[38;5;28;01mfor\u001b[39;00m shop_pem \u001b[38;5;129;01min\u001b[39;00m permutations(merged_orders):\n\u001b[0;32m    705\u001b[0m     \u001b[38;5;28;01mfor\u001b[39;00m dlv_pem \u001b[38;5;129;01min\u001b[39;00m permutations(merged_orders):\n\u001b[1;32m--> 706\u001b[0m         feasibility_check \u001b[38;5;241m=\u001b[39m \u001b[43mtest_route_feasibility\u001b[49m\u001b[43m(\u001b[49m\u001b[43mall_orders\u001b[49m\u001b[43m,\u001b[49m\u001b[43m \u001b[49m\u001b[43mrider\u001b[49m\u001b[43m,\u001b[49m\u001b[43m \u001b[49m\u001b[43mshop_pem\u001b[49m\u001b[43m,\u001b[49m\u001b[43m \u001b[49m\u001b[43mdlv_pem\u001b[49m\u001b[43m)\u001b[49m\n\u001b[0;32m    707\u001b[0m         \u001b[38;5;28;01mif\u001b[39;00m feasibility_check \u001b[38;5;241m==\u001b[39m \u001b[38;5;241m0\u001b[39m: \u001b[38;5;66;03m# feasible!\u001b[39;00m\n\u001b[0;32m    708\u001b[0m             total_dist \u001b[38;5;241m=\u001b[39m get_total_distance(K, dist_mat, shop_pem, dlv_pem)\n",
      "File \u001b[1;32m~\\vscode\\LG-CNS\\Han\\weight_update\\based 0704\\util_0704.py:666\u001b[0m, in \u001b[0;36mtest_route_feasibility\u001b[1;34m(all_orders, rider, shop_seq, dlv_seq)\u001b[0m\n\u001b[0;32m    664\u001b[0m \u001b[38;5;28;01mdef\u001b[39;00m \u001b[38;5;21mtest_route_feasibility\u001b[39m(all_orders, rider, shop_seq, dlv_seq):\n\u001b[1;32m--> 666\u001b[0m     total_vol \u001b[38;5;241m=\u001b[39m \u001b[43mget_total_volume\u001b[49m\u001b[43m(\u001b[49m\u001b[43mall_orders\u001b[49m\u001b[43m,\u001b[49m\u001b[43m \u001b[49m\u001b[43mshop_seq\u001b[49m\u001b[43m)\u001b[49m\n\u001b[0;32m    667\u001b[0m     \u001b[38;5;28;01mif\u001b[39;00m total_vol \u001b[38;5;241m>\u001b[39m rider\u001b[38;5;241m.\u001b[39mcapa:\n\u001b[0;32m    668\u001b[0m         \u001b[38;5;66;03m# Capacity overflow!\u001b[39;00m\n\u001b[0;32m    669\u001b[0m         \u001b[38;5;28;01mreturn\u001b[39;00m \u001b[38;5;241m-\u001b[39m\u001b[38;5;241m1\u001b[39m \u001b[38;5;66;03m# Capacity infeasibility\u001b[39;00m\n",
      "File \u001b[1;32m~\\vscode\\LG-CNS\\Han\\weight_update\\based 0704\\util_0704.py:618\u001b[0m, in \u001b[0;36mget_total_volume\u001b[1;34m(all_orders, shop_seq)\u001b[0m\n\u001b[0;32m    613\u001b[0m     \u001b[38;5;28;01mreturn\u001b[39;00m result_bundles, rider_availables, \u001b[38;5;28msum\u001b[39m((bundle\u001b[38;5;241m.\u001b[39mcost \u001b[38;5;28;01mfor\u001b[39;00m bundle \u001b[38;5;129;01min\u001b[39;00m result_bundles)) \u001b[38;5;241m/\u001b[39m K\n\u001b[0;32m    615\u001b[0m \u001b[38;5;66;03m# 주문들의 총 부피 계산\u001b[39;00m\n\u001b[0;32m    616\u001b[0m \u001b[38;5;66;03m# shop_seq는 주문들의 pickup list\u001b[39;00m\n\u001b[0;32m    617\u001b[0m \u001b[38;5;66;03m# Note: shop_seq는 주문 id의 list와 동일\u001b[39;00m\n\u001b[1;32m--> 618\u001b[0m \u001b[38;5;28;01mdef\u001b[39;00m \u001b[38;5;21mget_total_volume\u001b[39m(all_orders, shop_seq):\n\u001b[0;32m    619\u001b[0m     \u001b[38;5;28;01mreturn\u001b[39;00m \u001b[38;5;28msum\u001b[39m(all_orders[k]\u001b[38;5;241m.\u001b[39mvolume \u001b[38;5;28;01mfor\u001b[39;00m k \u001b[38;5;129;01min\u001b[39;00m shop_seq)\n\u001b[0;32m    621\u001b[0m \u001b[38;5;66;03m# shop_seq의 순서로 pickup하고 dlv_seq 순서로 배달할 때 총 거리 계산\u001b[39;00m\n\u001b[0;32m    622\u001b[0m \u001b[38;5;66;03m# Note: shop_seq 와 dlv_seq는 같은 주문 id들을 가져야 함. 즉, set(shop_seq) == seq(dlv_seq). (주문 id들의 순서는 바뀔 수 있음)\u001b[39;00m\n",
      "\u001b[1;31mKeyboardInterrupt\u001b[0m: "
     ]
    }
   ],
   "source": [
    "import pandas as pd\n",
    "\n",
    "result=[]\n",
    "timelimit = 60\n",
    "for i in range(1, 19):\n",
    "    problem_file = f\"C:/Users/cjfgh/vscode/LG-CNS/@shared/testfile/STAGE1_{i}.json\"\n",
    "    with open(problem_file, 'r') as f:\n",
    "        prob = json.load(f)\n",
    "\n",
    "    K = prob['K']\n",
    "\n",
    "    ALL_ORDERS = [Order(order_info) for order_info in prob['ORDERS']]\n",
    "    ALL_RIDERS = [Rider(rider_info) for rider_info in prob['RIDERS']]\n",
    "\n",
    "    DIST = np.array(prob['DIST'])\n",
    "\n",
    "    solution = algorithm(K, ALL_ORDERS, ALL_RIDERS, DIST, timelimit)\n",
    "    \n",
    "    with open(problem_file, 'r') as f:\n",
    "        prob = json.load(f)\n",
    "        K = prob['K']\n",
    "        ALL_ORDERS = [Order(order_info) for order_info in prob['ORDERS']]\n",
    "        ALL_RIDERS = [Rider(rider_info) for rider_info in prob['RIDERS']]\n",
    "        DIST = np.array(prob['DIST'])\n",
    "        for r in ALL_RIDERS:\n",
    "            r.T = np.round(DIST/r.speed + r.service_time).astype(int)\n",
    "\n",
    "    \n",
    "        checked_solution = solution_check(K, ALL_ORDERS, ALL_RIDERS, DIST, solution)\n",
    "\n",
    "    result.append(checked_solution['avg_cost'])\n",
    "    print(f\"STAGE1_{i}.json: {checked_solution['avg_cost']}\")\n",
    "\n",
    "df=pd.DataFrame(result)\n"
   ]
  },
  {
   "cell_type": "code",
   "execution_count": 55,
   "metadata": {},
   "outputs": [
    {
     "data": {
      "text/plain": [
       "[['BIKE', [0, 5], [5, 0]],\n",
       " ['BIKE', [1, 6, 3, 2], [2, 1, 3, 6]],\n",
       " ['BIKE', [14, 9, 10, 4], [4, 9, 14, 10]],\n",
       " ['BIKE', [16, 7, 17, 21], [21, 17, 7, 16]],\n",
       " ['BIKE', [8, 12], [12, 8]],\n",
       " ['CAR', [11, 19], [11, 19]],\n",
       " ['BIKE', [13, 15, 18], [18, 15, 13]],\n",
       " ['BIKE', [20, 26], [26, 20]],\n",
       " ['BIKE', [24, 29, 22], [22, 24, 29]],\n",
       " ['CAR', [23, 27], [27, 23]],\n",
       " ['BIKE', [25, 28], [28, 25]],\n",
       " ['CAR', [30], [30]],\n",
       " ['BIKE', [0, 17], [17, 0]],\n",
       " ['BIKE', [9, 19, 1], [1, 19, 9]],\n",
       " ['BIKE', [15, 12, 6], [6, 12, 15]],\n",
       " ['BIKE', [4, 7, 8, 2], [2, 8, 7, 4]],\n",
       " ['CAR', [3, 14], [14, 3]],\n",
       " ['BIKE', [5, 10, 13, 23], [23, 13, 5, 10]],\n",
       " ['BIKE', [18, 11, 21, 16], [16, 11, 21, 18]],\n",
       " ['BIKE', [24, 20, 22], [22, 24, 20]],\n",
       " ['CAR', [25], [25]],\n",
       " ['BIKE', [42, 41, 36], [36, 42, 41]],\n",
       " ['BIKE', [30, 38, 32, 26], [26, 32, 38, 30]],\n",
       " ['CAR', [27], [27]],\n",
       " ['BIKE', [28, 40, 34, 31], [31, 34, 28, 40]],\n",
       " ['BIKE', [39, 29, 37], [37, 29, 39]],\n",
       " ['BIKE', [33, 44, 35], [35, 44, 33]],\n",
       " ['CAR', [43], [43]],\n",
       " ['BIKE', [4, 0, 8], [8, 4, 0]],\n",
       " ['CAR', [1], [1]],\n",
       " ['BIKE', [2, 5, 3], [3, 5, 2]],\n",
       " ['BIKE', [6, 12, 16, 11], [11, 6, 16, 12]],\n",
       " ['BIKE', [9, 10, 7], [7, 9, 10]],\n",
       " ['BIKE', [13, 18], [13, 18]],\n",
       " ['BIKE', [14, 17, 15], [15, 17, 14]],\n",
       " ['BIKE', [21, 22, 19, 20], [20, 19, 21, 22]],\n",
       " ['CAR', [23], [23]]]"
      ]
     },
     "execution_count": 55,
     "metadata": {},
     "output_type": "execute_result"
    }
   ],
   "source": [
    "solution"
   ]
  },
  {
   "cell_type": "code",
   "execution_count": 42,
   "metadata": {},
   "outputs": [
    {
     "data": {
      "text/plain": [
       "{'feasible': False,\n",
       " 'infeasibility': 'Order 1 is NOT assigned!',\n",
       " 'bundles': [['BIKE', [0, 6], [6, 0]],\n",
       "  ['BIKE', [1, 7, 3, 2], [2, 1, 3, 7]],\n",
       "  ['BIKE', [30, 10, 27, 4], [4, 10, 30, 27]],\n",
       "  ['BIKE', [9, 14, 18, 5], [5, 18, 14, 9]],\n",
       "  ['BIKE', [8, 31], [31, 8]],\n",
       "  ['BIKE', [13, 11, 17], [17, 13, 11]],\n",
       "  ['BIKE', [26, 12, 21, 25], [25, 26, 12, 21]],\n",
       "  ['BIKE', [15, 19, 22], [22, 15, 19]],\n",
       "  ['CAR', [16, 34], [16, 34]],\n",
       "  ['BIKE', [23, 33, 28, 20], [20, 23, 33, 28]],\n",
       "  ['BIKE', [24, 29, 32], [32, 29, 24]],\n",
       "  ['CAR', [49, 43, 46], [49, 43, 46]],\n",
       "  ['BIKE', [36, 37, 35], [35, 37, 36]],\n",
       "  ['CAR', [44], [44]],\n",
       "  ['BIKE', [38, 41, 40, 42], [38, 41, 40, 42]],\n",
       "  ['CAR', [39, 45], [45, 39]],\n",
       "  ['BIKE', [52, 51, 47], [47, 52, 51]],\n",
       "  ['CAR', [48], [48]],\n",
       "  ['BIKE', [50, 53], [53, 50]],\n",
       "  ['BIKE', [0, 6], [6, 0]],\n",
       "  ['CAR', [1], [1]],\n",
       "  ['CAR', [2], [2]],\n",
       "  ['BIKE', [3, 8, 4], [4, 8, 3]],\n",
       "  ['BIKE', [7, 9, 5], [5, 7, 9]],\n",
       "  ['BIKE', [13, 10, 11], [11, 13, 10]],\n",
       "  ['BIKE', [12, 19, 14], [14, 19, 12]],\n",
       "  ['CAR', [15], [15]],\n",
       "  ['CAR', [17], [17]],\n",
       "  ['BIKE', [20, 26, 21, 16], [16, 21, 26, 20]],\n",
       "  ['BIKE', [23, 27, 29, 18], [18, 23, 27, 29]],\n",
       "  ['BIKE', [22, 30, 24], [24, 30, 22]],\n",
       "  ['BIKE', [25, 28], [28, 25]],\n",
       "  ['BIKE', [3, 0, 6], [6, 3, 0]],\n",
       "  ['BIKE', [1, 4, 2], [2, 4, 1]],\n",
       "  ['BIKE', [5, 8, 10, 7], [7, 5, 10, 8]],\n",
       "  ['CAR', [9], [9]],\n",
       "  ['BIKE', [12, 13, 11], [11, 12, 13]],\n",
       "  ['CAR', [14], [14]]]}"
      ]
     },
     "execution_count": 42,
     "metadata": {},
     "output_type": "execute_result"
    }
   ],
   "source": [
    "checked_solution"
   ]
  },
  {
   "cell_type": "code",
   "execution_count": 19,
   "metadata": {},
   "outputs": [
    {
     "name": "stdout",
     "output_type": "stream",
     "text": [
      "total mean:0    3270.614687\n",
      "dtype: float64\n",
      "평균 이상 케이스 평균:0    3864.16625\n",
      "dtype: float64\n",
      "평균 이하 케이스 평균:0    2677.063125\n",
      "dtype: float64\n"
     ]
    }
   ],
   "source": [
    "print(f\"total mean:{df.mean()}\")\n",
    "print(f\"평균 이상 케이스 평균:{df[df>=df.mean()].mean()}\") \n",
    "print(f\"평균 이하 케이스 평균:{df[df<=df.mean()].mean()}\")"
   ]
  },
  {
   "cell_type": "code",
   "execution_count": null,
   "metadata": {},
   "outputs": [],
   "source": []
  }
 ],
 "metadata": {
  "kernelspec": {
   "display_name": "Python 3 (ipykernel)",
   "language": "python",
   "name": "python3"
  },
  "language_info": {
   "codemirror_mode": {
    "name": "ipython",
    "version": 3
   },
   "file_extension": ".py",
   "mimetype": "text/x-python",
   "name": "python",
   "nbconvert_exporter": "python",
   "pygments_lexer": "ipython3",
   "version": "3.11.2"
  }
 },
 "nbformat": 4,
 "nbformat_minor": 4
}
