{
 "cells": [
  {
   "cell_type": "code",
   "execution_count": 1,
   "metadata": {},
   "outputs": [
    {
     "name": "stdout",
     "output_type": "stream",
     "text": [
      "C:\\Users\\cjfgh\\vscode\\LG-CNS\\Han\\weight_update\\based_0716\n"
     ]
    },
    {
     "name": "stderr",
     "output_type": "stream",
     "text": [
      "C:\\Users\\cjfgh\\AppData\\Roaming\\Python\\Python311\\site-packages\\IPython\\core\\magics\\osm.py:417: UserWarning: This is now an optional IPython functionality, setting dhist requires you to install the `pickleshare` library.\n",
      "  self.shell.db['dhist'] = compress_dhist(dhist)[-100:]\n"
     ]
    }
   ],
   "source": [
    "%cd \"C:\\Users\\cjfgh\\vscode\\LG-CNS\\Han\\weight_update\\based_0716\"\n"
   ]
  },
  {
   "cell_type": "code",
   "execution_count": 2,
   "metadata": {},
   "outputs": [],
   "source": [
    "%load_ext autoreload\n",
    "%autoreload 2\n",
    "\n",
    "from util_0716 import *\n",
    "from myalgorithm import algorithm\n",
    "\n",
    "import pandas as pd\n",
    "\n",
    "\n",
    "import matplotlib as mpl\n",
    "from matplotlib import pyplot\n",
    "import numpy as np\n",
    "import seaborn as sns"
   ]
  },
  {
   "cell_type": "markdown",
   "metadata": {},
   "source": [
    "### 제출본"
   ]
  },
  {
   "cell_type": "code",
   "execution_count": 3,
   "metadata": {},
   "outputs": [
    {
     "name": "stdout",
     "output_type": "stream",
     "text": [
      "[Bundle(all_orders, CAR, [0, 11], [11, 0], 51, True), Bundle(all_orders, BIKE, [29, 41, 1], [1, 29, 41], 69, True), Bundle(all_orders, BIKE, [17, 2, 39], [17, 2, 39], 53, True), Bundle(all_orders, CAR, [3], [3], 44, True), Bundle(all_orders, CAR, [51], [51], 24, True), Bundle(all_orders, CAR, [4, 5], [4, 5], 34, True), Bundle(all_orders, CAR, [6, 37], [6, 37], 43, True), Bundle(all_orders, BIKE, [8, 7, 18], [8, 7, 18], 53, True), Bundle(all_orders, BIKE, [13, 9, 44, 36], [9, 13, 44, 36], 86, True), Bundle(all_orders, BIKE, [28, 10, 32, 35], [28, 35, 10, 32], 78, True), Bundle(all_orders, BIKE, [12, 22, 33], [12, 22, 33], 78, True), Bundle(all_orders, CAR, [14, 46, 62], [14, 46, 62], 108, True), Bundle(all_orders, BIKE, [15, 23, 34, 20], [23, 15, 20, 34], 90, True), Bundle(all_orders, BIKE, [21, 38, 45, 16], [38, 21, 16, 45], 74, True), Bundle(all_orders, CAR, [19, 27], [27, 19], 56, True), Bundle(all_orders, BIKE, [24, 30, 63], [24, 30, 63], 57, True), Bundle(all_orders, BIKE, [25, 50, 55], [25, 55, 50], 78, True), Bundle(all_orders, CAR, [26, 57], [26, 57], 114, True), Bundle(all_orders, BIKE, [42, 53, 47], [47, 42, 53], 57, True), Bundle(all_orders, BIKE, [43, 48, 31], [31, 43, 48], 67, True), Bundle(all_orders, BIKE, [49, 54, 59], [49, 54, 59], 75, True), Bundle(all_orders, BIKE, [40, 58, 82], [58, 40, 82], 59, True), Bundle(all_orders, BIKE, [52, 66, 71], [71, 52, 66], 58, True), Bundle(all_orders, CAR, [56, 70], [70, 56], 33, True), Bundle(all_orders, CAR, [65, 60], [60, 65], 50, True), Bundle(all_orders, BIKE, [61, 75, 68], [61, 68, 75], 57, True), Bundle(all_orders, CAR, [74, 85, 98], [74, 98, 85], 75, True), Bundle(all_orders, CAR, [64, 86, 93], [86, 64, 93], 55, True), Bundle(all_orders, CAR, [73, 67, 90], [67, 73, 90], 44, True), Bundle(all_orders, CAR, [69, 83, 78], [69, 83, 78], 179, True), Bundle(all_orders, CAR, [97], [97], 27, True), Bundle(all_orders, CAR, [72, 88], [72, 88], 55, True), Bundle(all_orders, BIKE, [89, 76, 79], [76, 89, 79], 77, True), Bundle(all_orders, CAR, [77, 80], [77, 80], 43, True), Bundle(all_orders, BIKE, [95, 87, 94], [95, 94, 87], 79, True), Bundle(all_orders, BIKE, [81, 92, 91], [81, 92, 91], 55, True), Bundle(all_orders, BIKE, [96, 99], [99, 96], 43, True), Bundle(all_orders, CAR, [84], [84], 55, True)]\n",
      "[Bundle(all_orders, CAR, [0, 11], [11, 0], 51, True), Bundle(all_orders, CAR, [1, 41], [1, 41], 33, True), Bundle(all_orders, CAR, [17, 2], [17, 2], 38, True), Bundle(all_orders, CAR, [3], [3], 44, True), Bundle(all_orders, BIKE, [4, 13, 9], [4, 9, 13], 41, True), Bundle(all_orders, CAR, [5, 26], [5, 26], 108, True), Bundle(all_orders, CAR, [6, 37], [6, 37], 43, True), Bundle(all_orders, BIKE, [8, 7, 18], [8, 7, 18], 53, True), Bundle(all_orders, BIKE, [28, 10, 32, 35], [28, 35, 10, 32], 78, True), Bundle(all_orders, BIKE, [12, 22, 33], [12, 22, 33], 78, True), Bundle(all_orders, CAR, [14, 46, 62], [14, 46, 62], 108, True), Bundle(all_orders, BIKE, [15, 23, 34, 20], [23, 15, 20, 34], 90, True), Bundle(all_orders, BIKE, [21, 38, 45, 16], [38, 21, 16, 45], 74, True), Bundle(all_orders, BIKE, [27, 19], [27, 19], 56, True), Bundle(all_orders, BIKE, [24, 30, 63], [24, 30, 63], 57, True), Bundle(all_orders, BIKE, [25, 50, 55], [25, 55, 50], 78, True), Bundle(all_orders, CAR, [57], [57], 24, True), Bundle(all_orders, BIKE, [42, 53, 47], [47, 42, 53], 57, True), Bundle(all_orders, WALK, [29, 54], [29, 54], 66, True), Bundle(all_orders, CAR, [39, 31], [39, 31], 48, True), Bundle(all_orders, BIKE, [51, 44, 36], [51, 44, 36], 85, True), Bundle(all_orders, CAR, [40, 58], [58, 40], 41, True), Bundle(all_orders, CAR, [48, 43], [48, 43], 34, True), Bundle(all_orders, CAR, [49, 59], [59, 49], 45, True), Bundle(all_orders, BIKE, [52, 66, 71], [71, 52, 66], 58, True), Bundle(all_orders, BIKE, [56, 70], [70, 56], 33, True), Bundle(all_orders, CAR, [65, 60], [60, 65], 50, True), Bundle(all_orders, WALK, [61, 68], [61, 68], 39, True), Bundle(all_orders, CAR, [82, 75], [82, 75], 36, True), Bundle(all_orders, BIKE, [74, 85, 98], [74, 98, 85], 75, True), Bundle(all_orders, BIKE, [64, 86, 93], [93, 64, 86], 55, True), Bundle(all_orders, BIKE, [73, 67, 90], [67, 73, 90], 44, True), Bundle(all_orders, CAR, [69, 83, 78], [69, 83, 78], 179, True), Bundle(all_orders, CAR, [97], [97], 27, True), Bundle(all_orders, WALK, [72, 88], [72, 88], 55, True), Bundle(all_orders, BIKE, [89, 76, 79], [76, 89, 79], 77, True), Bundle(all_orders, BIKE, [77, 80], [77, 80], 43, True), Bundle(all_orders, BIKE, [95, 87, 94], [95, 94, 87], 79, True), Bundle(all_orders, BIKE, [81, 92, 91], [81, 92, 91], 55, True), Bundle(all_orders, CAR, [96], [96], 28, True), Bundle(all_orders, CAR, [84], [84], 55, True), Bundle(all_orders, CAR, [99], [99], 15, True)]\n"
     ]
    },
    {
     "ename": "KeyboardInterrupt",
     "evalue": "",
     "output_type": "error",
     "traceback": [
      "\u001b[1;31m---------------------------------------------------------------------------\u001b[0m",
      "\u001b[1;31mKeyboardInterrupt\u001b[0m                         Traceback (most recent call last)",
      "Cell \u001b[1;32mIn[3], line 17\u001b[0m\n\u001b[0;32m     13\u001b[0m ALL_RIDERS \u001b[38;5;241m=\u001b[39m [Rider(rider_info) \u001b[38;5;28;01mfor\u001b[39;00m rider_info \u001b[38;5;129;01min\u001b[39;00m prob[\u001b[38;5;124m'\u001b[39m\u001b[38;5;124mRIDERS\u001b[39m\u001b[38;5;124m'\u001b[39m]]\n\u001b[0;32m     15\u001b[0m DIST \u001b[38;5;241m=\u001b[39m np\u001b[38;5;241m.\u001b[39marray(prob[\u001b[38;5;124m'\u001b[39m\u001b[38;5;124mDIST\u001b[39m\u001b[38;5;124m'\u001b[39m])\n\u001b[1;32m---> 17\u001b[0m solution \u001b[38;5;241m=\u001b[39m \u001b[43malgorithm\u001b[49m\u001b[43m(\u001b[49m\u001b[43mK\u001b[49m\u001b[43m,\u001b[49m\u001b[43m \u001b[49m\u001b[43mALL_ORDERS\u001b[49m\u001b[43m,\u001b[49m\u001b[43m \u001b[49m\u001b[43mALL_RIDERS\u001b[49m\u001b[43m,\u001b[49m\u001b[43m \u001b[49m\u001b[43mDIST\u001b[49m\u001b[43m,\u001b[49m\u001b[43m \u001b[49m\u001b[43mtimelimit\u001b[49m\u001b[43m)\u001b[49m\n\u001b[0;32m     19\u001b[0m \u001b[38;5;28;01mwith\u001b[39;00m \u001b[38;5;28mopen\u001b[39m(problem_file, \u001b[38;5;124m'\u001b[39m\u001b[38;5;124mr\u001b[39m\u001b[38;5;124m'\u001b[39m) \u001b[38;5;28;01mas\u001b[39;00m f:\n\u001b[0;32m     20\u001b[0m     prob \u001b[38;5;241m=\u001b[39m json\u001b[38;5;241m.\u001b[39mload(f)\n",
      "File \u001b[1;32m~\\vscode\\LG-CNS\\Han\\weight_update\\based_0716\\myalgorithm.py:76\u001b[0m, in \u001b[0;36malgorithm\u001b[1;34m(K, all_orders, all_riders, dist_mat, timelimit)\u001b[0m\n\u001b[0;32m     74\u001b[0m \u001b[38;5;28;01mif\u001b[39;00m time\u001b[38;5;241m.\u001b[39mtime() \u001b[38;5;241m-\u001b[39m start_time \u001b[38;5;241m>\u001b[39m \u001b[38;5;241m58\u001b[39m \u001b[38;5;241m-\u001b[39m avg_time:\n\u001b[0;32m     75\u001b[0m     \u001b[38;5;28;01mbreak\u001b[39;00m\n\u001b[1;32m---> 76\u001b[0m bundles, result_rider_availables, cost \u001b[38;5;241m=\u001b[39m \u001b[43mselect_init_bundle_method\u001b[49m\u001b[43m(\u001b[49m\u001b[43mK\u001b[49m\u001b[43m,\u001b[49m\u001b[43m \u001b[49m\u001b[43mALL_RIDERS\u001b[49m\u001b[43m,\u001b[49m\u001b[43m \u001b[49m\u001b[43mALL_ORDERS\u001b[49m\u001b[43m,\u001b[49m\u001b[43m \u001b[49m\u001b[43mDIST\u001b[49m\u001b[43m,\u001b[49m\u001b[43m \u001b[49m\u001b[43minit_availables\u001b[49m\u001b[43m,\u001b[49m\u001b[43m \u001b[49m\u001b[43mweights\u001b[49m\u001b[43m,\u001b[49m\u001b[43m \u001b[49m\u001b[43mmin_cost_init_method_num\u001b[49m\u001b[43m)\u001b[49m\n\u001b[0;32m     78\u001b[0m \u001b[38;5;28;01mif\u001b[39;00m cost \u001b[38;5;241m<\u001b[39m min_init_cost:\n\u001b[0;32m     79\u001b[0m     min_init_cost \u001b[38;5;241m=\u001b[39m cost\n",
      "File \u001b[1;32m~\\vscode\\LG-CNS\\Han\\weight_update\\based_0716\\util_0716.py:451\u001b[0m, in \u001b[0;36mselect_init_bundle_method\u001b[1;34m(K, ALL_RIDERS, ALL_ORDERS, DIST, init_availables, weights, selected_num)\u001b[0m\n\u001b[0;32m    449\u001b[0m     \u001b[38;5;28;01mreturn\u001b[39;00m all_bundles, rider_availables, \u001b[38;5;28msum\u001b[39m((bundle\u001b[38;5;241m.\u001b[39mcost \u001b[38;5;28;01mfor\u001b[39;00m bundle \u001b[38;5;129;01min\u001b[39;00m all_bundles)) \u001b[38;5;241m/\u001b[39m K\n\u001b[0;32m    450\u001b[0m \u001b[38;5;28;01melif\u001b[39;00m selected_num \u001b[38;5;241m==\u001b[39m \u001b[38;5;241m2\u001b[39m:\n\u001b[1;32m--> 451\u001b[0m     all_bundles, rider_availables, _ \u001b[38;5;241m=\u001b[39m \u001b[43mget_init_bundle\u001b[49m\u001b[43m(\u001b[49m\u001b[43mK\u001b[49m\u001b[43m,\u001b[49m\u001b[43m \u001b[49m\u001b[43mALL_RIDERS\u001b[49m\u001b[43m,\u001b[49m\u001b[43m \u001b[49m\u001b[43mALL_ORDERS\u001b[49m\u001b[43m,\u001b[49m\u001b[43m \u001b[49m\u001b[43mDIST\u001b[49m\u001b[43m,\u001b[49m\u001b[43m \u001b[49m\u001b[43minit_availables\u001b[49m\u001b[43m,\u001b[49m\u001b[43m \u001b[49m\u001b[43mtry_merging_bundles_by_dist_with_car_walk_prefered\u001b[49m\u001b[43m,\u001b[49m\u001b[43m \u001b[49m\u001b[43mget_dist_by_coords\u001b[49m\u001b[43m,\u001b[49m\u001b[43m \u001b[49m\u001b[43mweights\u001b[49m\u001b[43m,\u001b[49m\u001b[43m \u001b[49m\u001b[43morder_count_upper_limit\u001b[49m\u001b[38;5;241;43m=\u001b[39;49m\u001b[38;5;241;43m4\u001b[39;49m\u001b[43m)\u001b[49m\n\u001b[0;32m    453\u001b[0m     all_bundles, rider_availables \u001b[38;5;241m=\u001b[39m check_reassign_riders(K, ALL_ORDERS, ALL_RIDERS, DIST, init_availables, all_bundles)\n\u001b[0;32m    454\u001b[0m     \u001b[38;5;28;01mfor\u001b[39;00m rider_i \u001b[38;5;129;01min\u001b[39;00m \u001b[38;5;28mrange\u001b[39m(\u001b[38;5;241m3\u001b[39m):\n",
      "File \u001b[1;32m~\\vscode\\LG-CNS\\Han\\weight_update\\based_0716\\util_0716.py:219\u001b[0m, in \u001b[0;36mget_init_bundle\u001b[1;34m(K, ALL_RIDERS, ALL_ORDERS, DIST, init_availables, bundle_merging_function, default_get_dist_method, weights, order_count_upper_limit)\u001b[0m\n\u001b[0;32m    216\u001b[0m     car_rider\u001b[38;5;241m.\u001b[39mavailable_number \u001b[38;5;241m-\u001b[39m\u001b[38;5;241m=\u001b[39m \u001b[38;5;241m1\u001b[39m\n\u001b[0;32m    217\u001b[0m     all_bundles\u001b[38;5;241m.\u001b[39mappend(new_bundle)\n\u001b[1;32m--> 219\u001b[0m all_bundles, rider_abailables \u001b[38;5;241m=\u001b[39m \u001b[43mkruskal_bundling\u001b[49m\u001b[43m(\u001b[49m\u001b[43mK\u001b[49m\u001b[43m,\u001b[49m\u001b[43m \u001b[49m\u001b[43mDIST\u001b[49m\u001b[43m,\u001b[49m\u001b[43m \u001b[49m\u001b[43mALL_ORDERS\u001b[49m\u001b[43m,\u001b[49m\u001b[43m \u001b[49m\u001b[43mALL_RIDERS\u001b[49m\u001b[43m,\u001b[49m\u001b[43m \u001b[49m\u001b[43morder_count_upper_limit\u001b[49m\u001b[43m,\u001b[49m\u001b[43m \u001b[49m\u001b[38;5;124;43m'\u001b[39;49m\u001b[38;5;124;43mtwo_seq\u001b[39;49m\u001b[38;5;124;43m'\u001b[39;49m\u001b[43m,\u001b[49m\u001b[43m \u001b[49m\u001b[43mall_bundles\u001b[49m\u001b[43m,\u001b[49m\u001b[43m \u001b[49m\u001b[43mbundle_merging_function\u001b[49m\u001b[43m,\u001b[49m\u001b[43m \u001b[49m\u001b[43mdefault_get_dist_method\u001b[49m\u001b[43m,\u001b[49m\u001b[43m \u001b[49m\u001b[43mweights\u001b[49m\u001b[43m)\u001b[49m\n\u001b[0;32m    221\u001b[0m \u001b[38;5;28;01mfor\u001b[39;00m rider_i \u001b[38;5;129;01min\u001b[39;00m \u001b[38;5;28mrange\u001b[39m(\u001b[38;5;241m3\u001b[39m):\n\u001b[0;32m    222\u001b[0m     ALL_RIDERS[rider_i]\u001b[38;5;241m.\u001b[39mavailable_number \u001b[38;5;241m=\u001b[39m init_availables[rider_i]\n",
      "File \u001b[1;32m~\\vscode\\LG-CNS\\Han\\weight_update\\based_0716\\util_0716.py:187\u001b[0m, in \u001b[0;36mkruskal_bundling\u001b[1;34m(K, DIST, ALL_ORDERS, ALL_RIDERS, order_count_upper_limit, avg_method, all_bundles, bundle_merging_function, default_get_dist_function, weights)\u001b[0m\n\u001b[0;32m    184\u001b[0m \u001b[38;5;28;01mif\u001b[39;00m rbn1 \u001b[38;5;241m==\u001b[39m rbn2:\n\u001b[0;32m    185\u001b[0m     \u001b[38;5;28;01mcontinue\u001b[39;00m\n\u001b[1;32m--> 187\u001b[0m new_bundle \u001b[38;5;241m=\u001b[39m \u001b[43mbundle_merging_function\u001b[49m\u001b[43m(\u001b[49m\u001b[43mK\u001b[49m\u001b[43m,\u001b[49m\u001b[43m \u001b[49m\u001b[43mDIST\u001b[49m\u001b[43m,\u001b[49m\u001b[43m \u001b[49m\u001b[43mALL_ORDERS\u001b[49m\u001b[43m,\u001b[49m\u001b[43m \u001b[49m\u001b[43mALL_RIDERS\u001b[49m\u001b[43m,\u001b[49m\u001b[43m \u001b[49m\u001b[43mall_bundles\u001b[49m\u001b[43m[\u001b[49m\u001b[43mrbn1\u001b[49m\u001b[43m]\u001b[49m\u001b[43m,\u001b[49m\u001b[43m \u001b[49m\u001b[43mall_bundles\u001b[49m\u001b[43m[\u001b[49m\u001b[43mrbn2\u001b[49m\u001b[43m]\u001b[49m\u001b[43m,\u001b[49m\u001b[43m \u001b[49m\u001b[43morder_count_upper_limit\u001b[49m\u001b[43m)\u001b[49m\n\u001b[0;32m    189\u001b[0m \u001b[38;5;28;01mif\u001b[39;00m new_bundle \u001b[38;5;129;01mis\u001b[39;00m \u001b[38;5;129;01mnot\u001b[39;00m \u001b[38;5;28;01mNone\u001b[39;00m:\n\u001b[0;32m    190\u001b[0m     all_bundles[rbn1]\u001b[38;5;241m.\u001b[39mrider\u001b[38;5;241m.\u001b[39mavailable_number \u001b[38;5;241m+\u001b[39m\u001b[38;5;241m=\u001b[39m \u001b[38;5;241m1\u001b[39m\n",
      "File \u001b[1;32m~\\vscode\\LG-CNS\\Han\\weight_update\\based_0716\\util_0716.py:728\u001b[0m, in \u001b[0;36mtry_merging_bundles_by_dist_with_car_walk_prefered\u001b[1;34m(K, dist_mat, all_orders, all_riders, bundle1, bundle2, order_count_upper_limit, order_count_lower_limit)\u001b[0m\n\u001b[0;32m    726\u001b[0m \u001b[38;5;28;01mfor\u001b[39;00m shop_pem \u001b[38;5;129;01min\u001b[39;00m permutations(merged_orders):\n\u001b[0;32m    727\u001b[0m     \u001b[38;5;28;01mfor\u001b[39;00m dlv_pem \u001b[38;5;129;01min\u001b[39;00m permutations(merged_orders):\n\u001b[1;32m--> 728\u001b[0m         feasibility_check \u001b[38;5;241m=\u001b[39m \u001b[43mtest_route_feasibility\u001b[49m\u001b[43m(\u001b[49m\u001b[43mall_orders\u001b[49m\u001b[43m,\u001b[49m\u001b[43m \u001b[49m\u001b[43mrider\u001b[49m\u001b[43m,\u001b[49m\u001b[43m \u001b[49m\u001b[43mshop_pem\u001b[49m\u001b[43m,\u001b[49m\u001b[43m \u001b[49m\u001b[43mdlv_pem\u001b[49m\u001b[43m)\u001b[49m\n\u001b[0;32m    729\u001b[0m         \u001b[38;5;28;01mif\u001b[39;00m feasibility_check \u001b[38;5;241m==\u001b[39m \u001b[38;5;241m0\u001b[39m: \u001b[38;5;66;03m# feasible!\u001b[39;00m\n\u001b[0;32m    730\u001b[0m             total_dist \u001b[38;5;241m=\u001b[39m get_total_distance(K, dist_mat, shop_pem, dlv_pem)\n",
      "File \u001b[1;32m~\\vscode\\LG-CNS\\Han\\weight_update\\based_0716\\util_0716.py:533\u001b[0m, in \u001b[0;36mtest_route_feasibility\u001b[1;34m(all_orders, rider, shop_seq, dlv_seq)\u001b[0m\n\u001b[0;32m    529\u001b[0m \u001b[38;5;28;01mif\u001b[39;00m total_vol \u001b[38;5;241m>\u001b[39m rider\u001b[38;5;241m.\u001b[39mcapa:\n\u001b[0;32m    530\u001b[0m     \u001b[38;5;66;03m# Capacity overflow!\u001b[39;00m\n\u001b[0;32m    531\u001b[0m     \u001b[38;5;28;01mreturn\u001b[39;00m \u001b[38;5;241m-\u001b[39m\u001b[38;5;241m1\u001b[39m \u001b[38;5;66;03m# Capacity infeasibility\u001b[39;00m\n\u001b[1;32m--> 533\u001b[0m pickup_times, dlv_times \u001b[38;5;241m=\u001b[39m \u001b[43mget_pd_times\u001b[49m\u001b[43m(\u001b[49m\u001b[43mall_orders\u001b[49m\u001b[43m,\u001b[49m\u001b[43m \u001b[49m\u001b[43mrider\u001b[49m\u001b[43m,\u001b[49m\u001b[43m \u001b[49m\u001b[43mshop_seq\u001b[49m\u001b[43m,\u001b[49m\u001b[43m \u001b[49m\u001b[43mdlv_seq\u001b[49m\u001b[43m)\u001b[49m\n\u001b[0;32m    535\u001b[0m \u001b[38;5;28;01mfor\u001b[39;00m k, dlv_time \u001b[38;5;129;01min\u001b[39;00m dlv_times\u001b[38;5;241m.\u001b[39mitems():\n\u001b[0;32m    536\u001b[0m     \u001b[38;5;28;01mif\u001b[39;00m dlv_time \u001b[38;5;241m>\u001b[39m all_orders[k]\u001b[38;5;241m.\u001b[39mdeadline:\n",
      "File \u001b[1;32m~\\vscode\\LG-CNS\\Han\\weight_update\\based_0716\\util_0716.py:518\u001b[0m, in \u001b[0;36mget_pd_times\u001b[1;34m(all_orders, rider, shop_seq, dlv_seq)\u001b[0m\n\u001b[0;32m    516\u001b[0m     t \u001b[38;5;241m+\u001b[39m\u001b[38;5;241m=\u001b[39m rider\u001b[38;5;241m.\u001b[39mT[k \u001b[38;5;241m+\u001b[39m K, next_k \u001b[38;5;241m+\u001b[39m K] \u001b[38;5;241m+\u001b[39m rider\u001b[38;5;241m.\u001b[39mservice_time\n\u001b[0;32m    517\u001b[0m     dlv_times[next_k] \u001b[38;5;241m=\u001b[39m t\n\u001b[1;32m--> 518\u001b[0m     k \u001b[38;5;241m=\u001b[39m next_k\n\u001b[0;32m    519\u001b[0m \u001b[38;5;28;01mreturn\u001b[39;00m pickup_times, dlv_times\n",
      "\u001b[1;31mKeyboardInterrupt\u001b[0m: "
     ]
    }
   ],
   "source": [
    "import pandas as pd\n",
    "\n",
    "result=[]\n",
    "timelimit = 60\n",
    "for i in range(1, 19):\n",
    "    problem_file = f\"C:/Users/cjfgh/vscode/LG-CNS/@shared/testfile/STAGE1_{i}.json\"\n",
    "    with open(problem_file, 'r') as f:\n",
    "        prob = json.load(f)\n",
    "\n",
    "    K = prob['K']\n",
    "\n",
    "    ALL_ORDERS = [Order(order_info) for order_info in prob['ORDERS']]\n",
    "    ALL_RIDERS = [Rider(rider_info) for rider_info in prob['RIDERS']]\n",
    "\n",
    "    DIST = np.array(prob['DIST'])\n",
    "\n",
    "    solution = algorithm(K, ALL_ORDERS, ALL_RIDERS, DIST, timelimit)\n",
    "    \n",
    "    with open(problem_file, 'r') as f:\n",
    "        prob = json.load(f)\n",
    "        K = prob['K']\n",
    "        ALL_ORDERS = [Order(order_info) for order_info in prob['ORDERS']]\n",
    "        ALL_RIDERS = [Rider(rider_info) for rider_info in prob['RIDERS']]\n",
    "        DIST = np.array(prob['DIST'])\n",
    "        for r in ALL_RIDERS:\n",
    "            r.T = np.round(DIST/r.speed + r.service_time).astype(int)\n",
    "\n",
    "    \n",
    "        checked_solution = solution_check(K, ALL_ORDERS, ALL_RIDERS, DIST, solution)\n",
    "\n",
    "    result.append(checked_solution['avg_cost'])\n",
    "    print(f\"STAGE1_{i}.json: {checked_solution['avg_cost']}\")\n",
    "\n",
    "df=pd.DataFrame(result)\n"
   ]
  },
  {
   "cell_type": "code",
   "execution_count": 19,
   "metadata": {},
   "outputs": [
    {
     "name": "stdout",
     "output_type": "stream",
     "text": [
      "total mean:0    3270.614687\n",
      "dtype: float64\n",
      "평균 이상 케이스 평균:0    3864.16625\n",
      "dtype: float64\n",
      "평균 이하 케이스 평균:0    2677.063125\n",
      "dtype: float64\n"
     ]
    }
   ],
   "source": [
    "print(f\"total mean:{df.mean()}\")\n",
    "print(f\"평균 이상 케이스 평균:{df[df>=df.mean()].mean()}\") \n",
    "print(f\"평균 이하 케이스 평균:{df[df<=df.mean()].mean()}\")"
   ]
  },
  {
   "cell_type": "code",
   "execution_count": null,
   "metadata": {},
   "outputs": [],
   "source": []
  }
 ],
 "metadata": {
  "kernelspec": {
   "display_name": "Python 3 (ipykernel)",
   "language": "python",
   "name": "python3"
  },
  "language_info": {
   "codemirror_mode": {
    "name": "ipython",
    "version": 3
   },
   "file_extension": ".py",
   "mimetype": "text/x-python",
   "name": "python",
   "nbconvert_exporter": "python",
   "pygments_lexer": "ipython3",
   "version": "3.11.2"
  }
 },
 "nbformat": 4,
 "nbformat_minor": 4
}
