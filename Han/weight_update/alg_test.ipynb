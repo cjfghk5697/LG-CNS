{
 "cells": [
  {
   "cell_type": "code",
   "execution_count": 3,
   "metadata": {},
   "outputs": [
    {
     "name": "stdout",
     "output_type": "stream",
     "text": [
      "C:\\Users\\cjfgh\\vscode\\LG-CNS\\Han\\weight_update\\new weight\n"
     ]
    }
   ],
   "source": [
    "%cd \"C:\\Users\\cjfgh\\vscode\\LG-CNS\\Han\\weight_update\\new weight\"\n"
   ]
  },
  {
   "cell_type": "code",
   "execution_count": 4,
   "metadata": {},
   "outputs": [
    {
     "name": "stdout",
     "output_type": "stream",
     "text": [
      "The autoreload extension is already loaded. To reload it, use:\n",
      "  %reload_ext autoreload\n"
     ]
    }
   ],
   "source": [
    "%load_ext autoreload\n",
    "%autoreload 2\n",
    "\n",
    "from util_0704 import *\n",
    "from myalgorithm import algorithm\n",
    "\n",
    "import pandas as pd\n",
    "\n",
    "\n",
    "import matplotlib as mpl\n",
    "from matplotlib import pyplot\n",
    "import numpy as np\n",
    "import seaborn as sns"
   ]
  },
  {
   "cell_type": "markdown",
   "metadata": {},
   "source": [
    "### 제출본"
   ]
  },
  {
   "cell_type": "code",
   "execution_count": 6,
   "metadata": {},
   "outputs": [
    {
     "name": "stdout",
     "output_type": "stream",
     "text": [
      "[['BIKE', [28, 11, 0, 10], [0, 11, 28, 10]], ['CAR', [1, 41], [1, 41]], ['CAR', [17, 2], [17, 2]], ['CAR', [3], [3]], ['CAR', [4, 13, 9], [4, 13, 9]], ['CAR', [5, 26], [5, 26]], ['BIKE', [29, 47, 6], [6, 29, 47]], ['BIKE', [7, 18, 8], [8, 7, 18]], ['CAR', [46, 14], [46, 14]], ['CAR', [15, 23, 34, 20], [15, 23, 20, 34]], ['BIKE', [45, 16, 40, 35], [35, 16, 45, 40]], ['BIKE', [21, 38, 62, 58], [21, 58, 38, 62]], ['BIKE', [24, 30, 63], [24, 30, 63]], ['BIKE', [25, 52, 66, 50], [52, 25, 50, 66]], ['CAR', [57], [57]], ['CAR', [43, 48, 31], [48, 43, 31]], ['BIKE', [42, 53, 54], [54, 42, 53]], ['BIKE', [37, 33, 32], [32, 33, 37]], ['CAR', [51, 44, 36], [51, 44, 36]], ['CAR', [39, 55], [39, 55]], ['CAR', [49, 59], [59, 49]], ['CAR', [56, 70], [56, 70]], ['CAR', [65, 60], [65, 60]], ['CAR', [61, 82], [82, 61]], ['BIKE', [74, 64, 86, 93], [86, 64, 93, 74]], ['BIKE', [67, 73, 72], [72, 67, 73]], ['BIKE', [68, 75, 92, 81], [75, 68, 81, 92]], ['CAR', [69, 83], [69, 83]], ['BIKE', [77, 80, 71], [71, 77, 80]], ['CAR', [97], [97]], ['CAR', [89, 76], [89, 76]], ['CAR', [90, 78, 84], [90, 84, 78]], ['CAR', [79, 98, 85], [79, 98, 85]], ['CAR', [87, 88], [87, 88]], ['CAR', [91, 99], [99, 91]], ['CAR', [94, 95], [95, 94]], ['CAR', [96], [96]], ['BIKE', [22, 12], [22, 12]], ['BIKE', [19, 27], [19, 27]]]\n",
      "Best cost: 3790.6079999999997\n",
      "Best weights: [ 1 -1  1]\n",
      "STAGE1_1.json: 3790.6079999999997\n"
     ]
    }
   ],
   "source": [
    "import pandas as pd\n",
    "\n",
    "result=[]\n",
    "timelimit = 60\n",
    "for i in range(1, 19):\n",
    "    problem_file = f\"C:/Users/cjfgh/vscode/LG-CNS/@shared/testfile/STAGE1_{i}.json\"\n",
    "    with open(problem_file, 'r') as f:\n",
    "        prob = json.load(f)\n",
    "\n",
    "    K = prob['K']\n",
    "\n",
    "    ALL_ORDERS = [Order(order_info) for order_info in prob['ORDERS']]\n",
    "    ALL_RIDERS = [Rider(rider_info) for rider_info in prob['RIDERS']]\n",
    "\n",
    "    DIST = np.array(prob['DIST'])\n",
    "\n",
    "    solution = algorithm(K, ALL_ORDERS, ALL_RIDERS, DIST, timelimit)\n",
    "    \n",
    "    with open(problem_file, 'r') as f:\n",
    "        prob = json.load(f)\n",
    "        K = prob['K']\n",
    "        ALL_ORDERS = [Order(order_info) for order_info in prob['ORDERS']]\n",
    "        ALL_RIDERS = [Rider(rider_info) for rider_info in prob['RIDERS']]\n",
    "        DIST = np.array(prob['DIST'])\n",
    "        for r in ALL_RIDERS:\n",
    "            r.T = np.round(DIST/r.speed + r.service_time).astype(int)\n",
    "\n",
    "    \n",
    "        checked_solution = solution_check(K, ALL_ORDERS, ALL_RIDERS, DIST, solution)\n",
    "\n",
    "    result.append(checked_solution['avg_cost'])\n",
    "    print(f\"STAGE1_{i}.json: {checked_solution['avg_cost']}\")\n",
    "\n",
    "df=pd.DataFrame(result, index=(range(1,19)))\n"
   ]
  },
  {
   "cell_type": "code",
   "execution_count": 32,
   "metadata": {},
   "outputs": [
    {
     "name": "stdout",
     "output_type": "stream",
     "text": [
      "total mean:0    3315.982769\n",
      "dtype: float64\n",
      "평균 이상 케이스 평균:0    3882.666889\n",
      "dtype: float64\n",
      "평균 이하 케이스 평균:0    2749.298648\n",
      "dtype: float64\n"
     ]
    }
   ],
   "source": [
    "print(f\"total mean:{df.mean()}\")\n",
    "print(f\"평균 이상 케이스 평균:{df[df>=df.mean()].mean()}\") \n",
    "print(f\"평균 이하 케이스 평균:{df[df<=df.mean()].mean()}\")"
   ]
  },
  {
   "cell_type": "code",
   "execution_count": 33,
   "metadata": {},
   "outputs": [
    {
     "data": {
      "text/html": [
       "<div>\n",
       "<style scoped>\n",
       "    .dataframe tbody tr th:only-of-type {\n",
       "        vertical-align: middle;\n",
       "    }\n",
       "\n",
       "    .dataframe tbody tr th {\n",
       "        vertical-align: top;\n",
       "    }\n",
       "\n",
       "    .dataframe thead th {\n",
       "        text-align: right;\n",
       "    }\n",
       "</style>\n",
       "<table border=\"1\" class=\"dataframe\">\n",
       "  <thead>\n",
       "    <tr style=\"text-align: right;\">\n",
       "      <th></th>\n",
       "      <th>0</th>\n",
       "    </tr>\n",
       "  </thead>\n",
       "  <tbody>\n",
       "    <tr>\n",
       "      <th>1</th>\n",
       "      <td>3790.608000</td>\n",
       "    </tr>\n",
       "    <tr>\n",
       "      <th>2</th>\n",
       "      <td>3369.778000</td>\n",
       "    </tr>\n",
       "    <tr>\n",
       "      <th>3</th>\n",
       "      <td>3047.829500</td>\n",
       "    </tr>\n",
       "    <tr>\n",
       "      <th>4</th>\n",
       "      <td>2699.685500</td>\n",
       "    </tr>\n",
       "    <tr>\n",
       "      <th>5</th>\n",
       "      <td>2338.156333</td>\n",
       "    </tr>\n",
       "    <tr>\n",
       "      <th>6</th>\n",
       "      <td>2674.389667</td>\n",
       "    </tr>\n",
       "    <tr>\n",
       "      <th>7</th>\n",
       "      <td>3510.656000</td>\n",
       "    </tr>\n",
       "    <tr>\n",
       "      <th>8</th>\n",
       "      <td>3231.938000</td>\n",
       "    </tr>\n",
       "    <tr>\n",
       "      <th>9</th>\n",
       "      <td>3177.473500</td>\n",
       "    </tr>\n",
       "    <tr>\n",
       "      <th>10</th>\n",
       "      <td>2567.313000</td>\n",
       "    </tr>\n",
       "    <tr>\n",
       "      <th>11</th>\n",
       "      <td>2489.754667</td>\n",
       "    </tr>\n",
       "    <tr>\n",
       "      <th>12</th>\n",
       "      <td>2517.147667</td>\n",
       "    </tr>\n",
       "    <tr>\n",
       "      <th>13</th>\n",
       "      <td>5031.158000</td>\n",
       "    </tr>\n",
       "    <tr>\n",
       "      <th>14</th>\n",
       "      <td>4250.552000</td>\n",
       "    </tr>\n",
       "    <tr>\n",
       "      <th>15</th>\n",
       "      <td>4389.129500</td>\n",
       "    </tr>\n",
       "    <tr>\n",
       "      <th>16</th>\n",
       "      <td>3359.662500</td>\n",
       "    </tr>\n",
       "    <tr>\n",
       "      <th>17</th>\n",
       "      <td>3613.234333</td>\n",
       "    </tr>\n",
       "    <tr>\n",
       "      <th>18</th>\n",
       "      <td>3629.223667</td>\n",
       "    </tr>\n",
       "  </tbody>\n",
       "</table>\n",
       "</div>"
      ],
      "text/plain": [
       "              0\n",
       "1   3790.608000\n",
       "2   3369.778000\n",
       "3   3047.829500\n",
       "4   2699.685500\n",
       "5   2338.156333\n",
       "6   2674.389667\n",
       "7   3510.656000\n",
       "8   3231.938000\n",
       "9   3177.473500\n",
       "10  2567.313000\n",
       "11  2489.754667\n",
       "12  2517.147667\n",
       "13  5031.158000\n",
       "14  4250.552000\n",
       "15  4389.129500\n",
       "16  3359.662500\n",
       "17  3613.234333\n",
       "18  3629.223667"
      ]
     },
     "execution_count": 33,
     "metadata": {},
     "output_type": "execute_result"
    }
   ],
   "source": [
    "df"
   ]
  },
  {
   "cell_type": "code",
   "execution_count": null,
   "metadata": {},
   "outputs": [],
   "source": []
  }
 ],
 "metadata": {
  "kernelspec": {
   "display_name": "Python 3 (ipykernel)",
   "language": "python",
   "name": "python3"
  },
  "language_info": {
   "codemirror_mode": {
    "name": "ipython",
    "version": 3
   },
   "file_extension": ".py",
   "mimetype": "text/x-python",
   "name": "python",
   "nbconvert_exporter": "python",
   "pygments_lexer": "ipython3",
   "version": "3.11.7"
  }
 },
 "nbformat": 4,
 "nbformat_minor": 4
}
