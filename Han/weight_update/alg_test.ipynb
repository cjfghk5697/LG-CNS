{
 "cells": [
  {
   "cell_type": "code",
   "execution_count": 1,
   "metadata": {},
   "outputs": [],
   "source": [
    "%load_ext autoreload\n",
    "%autoreload 2\n",
    "\n",
    "\n",
    "from util_0716 import *\n",
    "from myalgorithm import algorithm\n",
    "\n",
    "import pandas as pd\n",
    "\n",
    "\n",
    "import matplotlib as mpl\n",
    "from matplotlib import pyplot\n",
    "import numpy as np\n",
    "import seaborn as sns"
   ]
  },
  {
   "cell_type": "markdown",
   "metadata": {},
   "source": [
    "### 제출본"
   ]
  },
  {
   "cell_type": "code",
   "execution_count": 16,
   "metadata": {},
   "outputs": [
    {
     "name": "stdout",
     "output_type": "stream",
     "text": [
      "STAGE1_1.json: 3733.3119999999994\n",
      "STAGE1_2.json: 3384.2499999999995\n",
      "STAGE1_3.json: 3076.3319999999994\n",
      "STAGE1_4.json: 2692.2944999999995\n",
      "STAGE1_5.json: 2309.2583333333337\n",
      "STAGE1_6.json: 2480.9586666666664\n",
      "STAGE1_7.json: 3514.098\n",
      "STAGE1_8.json: 3274.336000000001\n",
      "STAGE1_9.json: 3167.015999999999\n",
      "STAGE1_10.json: 2618.6455\n",
      "STAGE1_11.json: 2558.0633333333335\n",
      "STAGE1_12.json: 2513.9366666666665\n",
      "STAGE1_13.json: 4919.154\n",
      "STAGE1_14.json: 4351.8330000000005\n",
      "STAGE1_15.json: 4327.716999999999\n",
      "STAGE1_16.json: 3408.63\n"
     ]
    },
    {
     "ename": "IndexError",
     "evalue": "list index out of range",
     "output_type": "error",
     "traceback": [
      "\u001b[1;31m---------------------------------------------------------------------------\u001b[0m",
      "\u001b[1;31mIndexError\u001b[0m                                Traceback (most recent call last)",
      "Cell \u001b[1;32mIn[16], line 17\u001b[0m\n\u001b[0;32m     13\u001b[0m ALL_RIDERS \u001b[38;5;241m=\u001b[39m [Rider(rider_info) \u001b[38;5;28;01mfor\u001b[39;00m rider_info \u001b[38;5;129;01min\u001b[39;00m prob[\u001b[38;5;124m'\u001b[39m\u001b[38;5;124mRIDERS\u001b[39m\u001b[38;5;124m'\u001b[39m]]\n\u001b[0;32m     15\u001b[0m DIST \u001b[38;5;241m=\u001b[39m np\u001b[38;5;241m.\u001b[39marray(prob[\u001b[38;5;124m'\u001b[39m\u001b[38;5;124mDIST\u001b[39m\u001b[38;5;124m'\u001b[39m])\n\u001b[1;32m---> 17\u001b[0m solution \u001b[38;5;241m=\u001b[39m \u001b[43malgorithm\u001b[49m\u001b[43m(\u001b[49m\u001b[43mK\u001b[49m\u001b[43m,\u001b[49m\u001b[43m \u001b[49m\u001b[43mALL_ORDERS\u001b[49m\u001b[43m,\u001b[49m\u001b[43m \u001b[49m\u001b[43mALL_RIDERS\u001b[49m\u001b[43m,\u001b[49m\u001b[43m \u001b[49m\u001b[43mDIST\u001b[49m\u001b[43m,\u001b[49m\u001b[43m \u001b[49m\u001b[43mtimelimit\u001b[49m\u001b[43m)\u001b[49m\n\u001b[0;32m     19\u001b[0m \u001b[38;5;28;01mwith\u001b[39;00m \u001b[38;5;28mopen\u001b[39m(problem_file, \u001b[38;5;124m'\u001b[39m\u001b[38;5;124mr\u001b[39m\u001b[38;5;124m'\u001b[39m) \u001b[38;5;28;01mas\u001b[39;00m f:\n\u001b[0;32m     20\u001b[0m     prob \u001b[38;5;241m=\u001b[39m json\u001b[38;5;241m.\u001b[39mload(f)\n",
      "File \u001b[1;32mc:\\Users\\cjfgh\\vscode\\LG-CNS\\Han\\weight_update\\myalgorithm.py:111\u001b[0m, in \u001b[0;36malgorithm\u001b[1;34m(K, all_orders, all_riders, dist_mat, timelimit)\u001b[0m\n\u001b[0;32m    108\u001b[0m     weights[\u001b[38;5;241m3\u001b[39m] \u001b[38;5;241m+\u001b[39m\u001b[38;5;241m=\u001b[39m bias\n\u001b[0;32m    110\u001b[0m \u001b[38;5;28;01mfor\u001b[39;00m rider_i \u001b[38;5;129;01min\u001b[39;00m \u001b[38;5;28mrange\u001b[39m(\u001b[38;5;241m3\u001b[39m):\n\u001b[1;32m--> 111\u001b[0m     ALL_RIDERS[rider_i]\u001b[38;5;241m.\u001b[39mavailable_number \u001b[38;5;241m=\u001b[39m \u001b[43mmin_init_cost_rider_availables\u001b[49m\u001b[43m[\u001b[49m\u001b[43mrider_i\u001b[49m\u001b[43m]\u001b[49m\n\u001b[0;32m    112\u001b[0m all_bundles \u001b[38;5;241m=\u001b[39m min_init_cost_bundles\n\u001b[0;32m    114\u001b[0m \u001b[38;5;66;03m#------------- End of custom algorithm code--------------#\u001b[39;00m\n",
      "\u001b[1;31mIndexError\u001b[0m: list index out of range"
     ]
    }
   ],
   "source": [
    "import pandas as pd\n",
    "\n",
    "result=[]\n",
    "timelimit = 60\n",
    "for i in range(1, 19):\n",
    "    problem_file = f\"C:/Users/cjfgh/vscode/LG-CNS/@shared/testfile/STAGE1_{i}.json\"\n",
    "    with open(problem_file, 'r') as f:\n",
    "        prob = json.load(f)\n",
    "\n",
    "    K = prob['K']\n",
    "\n",
    "    ALL_ORDERS = [Order(order_info) for order_info in prob['ORDERS']]\n",
    "    ALL_RIDERS = [Rider(rider_info) for rider_info in prob['RIDERS']]\n",
    "\n",
    "    DIST = np.array(prob['DIST'])\n",
    "\n",
    "    solution = algorithm(K, ALL_ORDERS, ALL_RIDERS, DIST, timelimit)\n",
    "    \n",
    "    with open(problem_file, 'r') as f:\n",
    "        prob = json.load(f)\n",
    "        K = prob['K']\n",
    "        ALL_ORDERS = [Order(order_info) for order_info in prob['ORDERS']]\n",
    "        ALL_RIDERS = [Rider(rider_info) for rider_info in prob['RIDERS']]\n",
    "        DIST = np.array(prob['DIST'])\n",
    "        for r in ALL_RIDERS:\n",
    "            r.T = np.round(DIST/r.speed + r.service_time).astype(int)\n",
    "\n",
    "    \n",
    "        checked_solution = solution_check(K, ALL_ORDERS, ALL_RIDERS, DIST, solution)\n",
    "\n",
    "    result.append(checked_solution['avg_cost'])\n",
    "    print(f\"STAGE1_{i}.json: {checked_solution['avg_cost']}\")\n",
    "\n",
    "df=pd.DataFrame(result)\n"
   ]
  },
  {
   "cell_type": "code",
   "execution_count": 19,
   "metadata": {},
   "outputs": [
    {
     "name": "stdout",
     "output_type": "stream",
     "text": [
      "total mean:0    3270.614687\n",
      "dtype: float64\n",
      "평균 이상 케이스 평균:0    3864.16625\n",
      "dtype: float64\n",
      "평균 이하 케이스 평균:0    2677.063125\n",
      "dtype: float64\n"
     ]
    }
   ],
   "source": [
    "print(f\"total mean:{df.mean()}\")\n",
    "print(f\"평균 이상 케이스 평균:{df[df>=df.mean()].mean()}\") \n",
    "print(f\"평균 이하 케이스 평균:{df[df<=df.mean()].mean()}\")"
   ]
  },
  {
   "cell_type": "code",
   "execution_count": null,
   "metadata": {},
   "outputs": [],
   "source": []
  }
 ],
 "metadata": {
  "kernelspec": {
   "display_name": "Python 3 (ipykernel)",
   "language": "python",
   "name": "python3"
  },
  "language_info": {
   "codemirror_mode": {
    "name": "ipython",
    "version": 3
   },
   "file_extension": ".py",
   "mimetype": "text/x-python",
   "name": "python",
   "nbconvert_exporter": "python",
   "pygments_lexer": "ipython3",
   "version": "3.11.2"
  }
 },
 "nbformat": 4,
 "nbformat_minor": 4
}
