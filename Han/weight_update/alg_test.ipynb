{
 "cells": [
  {
   "cell_type": "code",
   "execution_count": 3,
   "metadata": {},
   "outputs": [
    {
     "name": "stdout",
     "output_type": "stream",
     "text": [
      "C:\\Users\\cjfgh\\vscode\\LG-CNS\\Han\\weight_update\\based 0704\n"
     ]
    },
    {
     "name": "stderr",
     "output_type": "stream",
     "text": [
      "C:\\Users\\cjfgh\\AppData\\Roaming\\Python\\Python311\\site-packages\\IPython\\core\\magics\\osm.py:417: UserWarning: This is now an optional IPython functionality, setting dhist requires you to install the `pickleshare` library.\n",
      "  self.shell.db['dhist'] = compress_dhist(dhist)[-100:]\n"
     ]
    }
   ],
   "source": [
    "%cd \"C:\\Users\\cjfgh\\vscode\\LG-CNS\\Han\\weight_update\\based 0704\"\n"
   ]
  },
  {
   "cell_type": "code",
   "execution_count": 4,
   "metadata": {},
   "outputs": [
    {
     "name": "stdout",
     "output_type": "stream",
     "text": [
      "The autoreload extension is already loaded. To reload it, use:\n",
      "  %reload_ext autoreload\n"
     ]
    }
   ],
   "source": [
    "%load_ext autoreload\n",
    "%autoreload 2\n",
    "\n",
    "from util_0704 import *\n",
    "from myalgorithm import algorithm\n",
    "\n",
    "import pandas as pd\n",
    "\n",
    "\n",
    "import matplotlib as mpl\n",
    "from matplotlib import pyplot\n",
    "import numpy as np\n",
    "import seaborn as sns"
   ]
  },
  {
   "cell_type": "markdown",
   "metadata": {},
   "source": [
    "### 제출본"
   ]
  },
  {
   "cell_type": "code",
   "execution_count": 87,
   "metadata": {},
   "outputs": [
    {
     "name": "stdout",
     "output_type": "stream",
     "text": [
      "[Bundle(all_orders, BIKE, [5, 0, 13], [13, 0, 5], 76, True), Bundle(all_orders, BIKE, [1, 7, 3, 2], [2, 1, 3, 7], 59, True), Bundle(all_orders, BIKE, [18, 14, 9, 4], [4, 18, 14, 9], 71, True), Bundle(all_orders, BIKE, [6, 11, 17], [6, 11, 17], 93, True), Bundle(all_orders, BIKE, [8, 31], [31, 8], 98, True), Bundle(all_orders, BIKE, [12, 10, 30, 26], [26, 12, 10, 30], 74, True), Bundle(all_orders, BIKE, [15, 19], [19, 15], 45, True), Bundle(all_orders, CAR, [16, 34], [16, 34], 114, True), Bundle(all_orders, BIKE, [22, 23, 27, 20], [20, 23, 22, 27], 84, True), Bundle(all_orders, BIKE, [25, 21, 35, 37], [21, 35, 25, 37], 69, True), Bundle(all_orders, BIKE, [24, 29, 32], [32, 29, 24], 85, True), Bundle(all_orders, BIKE, [28, 33], [33, 28], 36, True), Bundle(all_orders, BIKE, [36, 44], [44, 36], 39, True), Bundle(all_orders, BIKE, [38, 41, 40, 42], [38, 41, 40, 42], 61, True), Bundle(all_orders, CAR, [39, 45], [45, 39], 143, True), Bundle(all_orders, CAR, [49, 43, 46], [49, 43, 46], 107, True), Bundle(all_orders, CAR, [48], [48], 40, True), Bundle(all_orders, BIKE, [52, 51, 47], [47, 52, 51], 79, True), Bundle(all_orders, BIKE, [50, 53], [53, 50], 37, True)]\n",
      "[Bundle(all_orders, BIKE, [0, 6], [6, 0], 33, True), Bundle(all_orders, CAR, [1], [1], 44, True), Bundle(all_orders, CAR, [2], [2], 22, True), Bundle(all_orders, BIKE, [3, 8, 4], [4, 8, 3], 89, True), Bundle(all_orders, BIKE, [7, 9, 5], [5, 7, 9], 67, True), Bundle(all_orders, CAR, [11], [11], 30, True), Bundle(all_orders, BIKE, [10, 13, 15], [10, 13, 15], 57, True), Bundle(all_orders, BIKE, [12, 19], [19, 12], 33, True), Bundle(all_orders, BIKE, [14, 17], [17, 14], 50, True), Bundle(all_orders, BIKE, [20, 26, 21, 16], [16, 21, 26, 20], 75, True), Bundle(all_orders, BIKE, [23, 27, 29, 18], [18, 23, 27, 29], 79, True), Bundle(all_orders, BIKE, [22, 30, 24], [24, 30, 22], 94, True), Bundle(all_orders, BIKE, [25, 28], [28, 25], 38, True)]\n",
      "[Bundle(all_orders, BIKE, [3, 0, 6], [6, 3, 0], 53, True), Bundle(all_orders, BIKE, [1, 4, 2], [2, 4, 1], 53, True), Bundle(all_orders, BIKE, [5, 8, 10, 7], [7, 5, 10, 8], 95, True), Bundle(all_orders, BIKE, [12, 13, 9], [9, 13, 12], 62, True), Bundle(all_orders, BIKE, [11, 14], [14, 11], 49, True)]\n",
      "break: 3678.816992830961\n",
      "[Bundle(all_orders, BIKE, [0, 6], [6, 0], 58, True), Bundle(all_orders, BIKE, [1, 7, 3, 2], [2, 1, 3, 7], 59, True), Bundle(all_orders, BIKE, [30, 10, 27, 4], [4, 10, 30, 27], 70, True), Bundle(all_orders, BIKE, [9, 14, 18, 5], [5, 18, 14, 9], 86, True), Bundle(all_orders, BIKE, [8, 31], [31, 8], 98, True), Bundle(all_orders, BIKE, [13, 11, 17], [17, 13, 11], 81, True), Bundle(all_orders, BIKE, [26, 12, 21, 25], [25, 26, 12, 21], 75, True), Bundle(all_orders, BIKE, [15, 19, 22], [22, 15, 19], 63, True), Bundle(all_orders, CAR, [16, 34], [16, 34], 114, True), Bundle(all_orders, BIKE, [23, 33, 28, 20], [20, 23, 33, 28], 83, True), Bundle(all_orders, BIKE, [24, 29, 32], [32, 29, 24], 85, True), Bundle(all_orders, CAR, [49, 43, 46], [49, 43, 46], 107, True), Bundle(all_orders, BIKE, [36, 37, 35], [35, 37, 36], 53, True), Bundle(all_orders, CAR, [44], [44], 18, True), Bundle(all_orders, BIKE, [38, 41, 40, 42], [38, 41, 40, 42], 61, True), Bundle(all_orders, CAR, [39, 45], [45, 39], 143, True), Bundle(all_orders, BIKE, [52, 51, 47], [47, 52, 51], 79, True), Bundle(all_orders, CAR, [48], [48], 40, True), Bundle(all_orders, BIKE, [50, 53], [53, 50], 37, True)]\n",
      "[Bundle(all_orders, BIKE, [0, 6], [6, 0], 33, True), Bundle(all_orders, CAR, [1], [1], 44, True), Bundle(all_orders, CAR, [2], [2], 22, True), Bundle(all_orders, BIKE, [3, 8, 4], [4, 8, 3], 89, True), Bundle(all_orders, BIKE, [7, 9, 5], [5, 7, 9], 67, True), Bundle(all_orders, BIKE, [13, 10, 11], [11, 13, 10], 75, True), Bundle(all_orders, BIKE, [12, 19, 14], [14, 19, 12], 55, True), Bundle(all_orders, CAR, [15], [15], 12, True), Bundle(all_orders, CAR, [17], [17], 28, True), Bundle(all_orders, BIKE, [20, 26, 21, 16], [16, 21, 26, 20], 75, True), Bundle(all_orders, BIKE, [23, 27, 29, 18], [18, 23, 27, 29], 79, True), Bundle(all_orders, BIKE, [22, 30, 24], [24, 30, 22], 94, True), Bundle(all_orders, BIKE, [25, 28], [28, 25], 38, True)]\n",
      "[Bundle(all_orders, BIKE, [3, 0, 6], [6, 3, 0], 53, True), Bundle(all_orders, BIKE, [1, 4, 2], [2, 4, 1], 53, True), Bundle(all_orders, BIKE, [5, 8, 10, 7], [7, 5, 10, 8], 95, True), Bundle(all_orders, CAR, [9], [9], 19, True), Bundle(all_orders, BIKE, [12, 13, 11], [11, 12, 13], 65, True), Bundle(all_orders, CAR, [14], [14], 27, True)]\n",
      "break: 3606.8000127841638\n",
      "[Bundle(all_orders, BIKE, [6, 13, 0], [0, 6, 13], 83, True), Bundle(all_orders, BIKE, [1, 7, 3, 2], [2, 1, 3, 7], 59, True), Bundle(all_orders, BIKE, [4, 11], [11, 4], 47, True), Bundle(all_orders, BIKE, [9, 14, 18, 5], [5, 18, 14, 9], 86, True), Bundle(all_orders, BIKE, [8, 31], [31, 8], 98, True), Bundle(all_orders, BIKE, [12, 10, 30, 26], [26, 12, 10, 30], 74, True), Bundle(all_orders, BIKE, [15, 19, 22], [22, 15, 19], 63, True), Bundle(all_orders, CAR, [16, 34], [16, 34], 114, True), Bundle(all_orders, CAR, [17], [17], 24, True), Bundle(all_orders, BIKE, [23, 33, 28, 20], [20, 23, 33, 28], 83, True), Bundle(all_orders, BIKE, [25, 21, 35, 37], [21, 35, 25, 37], 69, True), Bundle(all_orders, BIKE, [24, 29, 32], [32, 29, 24], 85, True), Bundle(all_orders, BIKE, [36, 27], [27, 36], 40, True), Bundle(all_orders, BIKE, [38, 41, 44], [44, 38, 41], 46, True), Bundle(all_orders, CAR, [39, 45], [45, 39], 143, True), Bundle(all_orders, BIKE, [40, 42], [42, 40], 33, True), Bundle(all_orders, CAR, [49, 43, 46], [49, 43, 46], 107, True), Bundle(all_orders, CAR, [47], [47], 38, True), Bundle(all_orders, BIKE, [52, 51, 48], [48, 52, 51], 81, True), Bundle(all_orders, BIKE, [50, 53], [53, 50], 37, True)]\n",
      "[Bundle(all_orders, BIKE, [0, 1], [1, 0], 56, True), Bundle(all_orders, BIKE, [2, 3], [3, 2], 54, True), Bundle(all_orders, BIKE, [4, 8, 6], [6, 4, 8], 78, True), Bundle(all_orders, BIKE, [5, 11, 13], [13, 11, 5], 83, True), Bundle(all_orders, BIKE, [7, 9, 10], [10, 9, 7], 59, True), Bundle(all_orders, BIKE, [12, 19, 14], [14, 19, 12], 55, True), Bundle(all_orders, CAR, [15], [15], 12, True), Bundle(all_orders, BIKE, [20, 26, 21, 16], [16, 21, 26, 20], 75, True), Bundle(all_orders, CAR, [17], [17], 28, True), Bundle(all_orders, BIKE, [18, 27, 23], [23, 18, 27], 51, True), Bundle(all_orders, BIKE, [22, 29], [29, 22], 61, True), Bundle(all_orders, BIKE, [25, 28, 24, 30], [30, 28, 25, 24], 99, True)]\n",
      "[Bundle(all_orders, BIKE, [3, 0, 6], [6, 3, 0], 53, True), Bundle(all_orders, BIKE, [1, 4, 2], [2, 4, 1], 53, True), Bundle(all_orders, BIKE, [5, 8, 10, 7], [7, 5, 10, 8], 95, True), Bundle(all_orders, CAR, [9], [9], 19, True), Bundle(all_orders, BIKE, [12, 13, 11], [11, 12, 13], 65, True), Bundle(all_orders, CAR, [14], [14], 27, True)]\n",
      "[Bundle(all_orders, BIKE, [0, 6], [6, 0], 58, True), Bundle(all_orders, BIKE, [1, 7, 3, 2], [2, 1, 3, 7], 59, True), Bundle(all_orders, BIKE, [4, 12, 26, 10], [10, 4, 12, 26], 73, True), Bundle(all_orders, BIKE, [5, 19, 20, 15], [5, 20, 15, 19], 99, True), Bundle(all_orders, CAR, [25, 8], [8, 25], 105, True), Bundle(all_orders, BIKE, [28, 33, 18], [18, 33, 28], 52, True), Bundle(all_orders, BIKE, [23, 35, 14, 9], [9, 14, 23, 35], 85, True), Bundle(all_orders, BIKE, [11, 17], [17, 11], 56, True), Bundle(all_orders, BIKE, [13, 21, 27, 30], [13, 21, 30, 27], 76, True), Bundle(all_orders, CAR, [16], [16], 90, True), Bundle(all_orders, BIKE, [22, 37, 31], [31, 37, 22], 42, True), Bundle(all_orders, BIKE, [24, 29, 32], [32, 29, 24], 85, True), Bundle(all_orders, BIKE, [34, 38], [38, 34], 42, True), Bundle(all_orders, BIKE, [36, 44], [44, 36], 39, True), Bundle(all_orders, CAR, [39, 45], [45, 39], 143, True), Bundle(all_orders, BIKE, [52, 51, 40, 48], [48, 40, 52, 51], 96, True), Bundle(all_orders, BIKE, [41, 49, 43], [41, 49, 43], 62, True), Bundle(all_orders, BIKE, [42, 47], [47, 42], 56, True), Bundle(all_orders, BIKE, [50, 46, 53], [53, 50, 46], 92, True)]\n",
      "[Bundle(all_orders, BIKE, [0, 6], [6, 0], 33, True), Bundle(all_orders, CAR, [1], [1], 44, True), Bundle(all_orders, BIKE, [2, 3], [3, 2], 54, True), Bundle(all_orders, BIKE, [8, 4, 11], [11, 4, 8], 87, True), Bundle(all_orders, BIKE, [7, 9, 5], [5, 7, 9], 67, True), Bundle(all_orders, BIKE, [25, 28, 16], [16, 25, 28], 55, True), Bundle(all_orders, BIKE, [20, 26, 13], [13, 26, 20], 62, True), Bundle(all_orders, BIKE, [15, 21, 10], [10, 15, 21], 53, True), Bundle(all_orders, BIKE, [12, 19], [19, 12], 33, True), Bundle(all_orders, BIKE, [14, 17], [17, 14], 50, True), Bundle(all_orders, BIKE, [23, 27, 29, 18], [18, 23, 27, 29], 79, True), Bundle(all_orders, BIKE, [22, 30, 24], [24, 30, 22], 94, True)]\n",
      "[Bundle(all_orders, BIKE, [3, 0, 6], [6, 3, 0], 53, True), Bundle(all_orders, CAR, [2], [2], 18, True), Bundle(all_orders, BIKE, [1, 4, 5], [5, 1, 4], 74, True), Bundle(all_orders, BIKE, [12, 13, 9], [9, 13, 12], 62, True), Bundle(all_orders, BIKE, [7, 10, 8], [8, 10, 7], 56, True), Bundle(all_orders, BIKE, [11, 14], [14, 11], 49, True)]\n"
     ]
    },
    {
     "ename": "KeyboardInterrupt",
     "evalue": "",
     "output_type": "error",
     "traceback": [
      "\u001b[1;31m---------------------------------------------------------------------------\u001b[0m",
      "\u001b[1;31mKeyboardInterrupt\u001b[0m                         Traceback (most recent call last)",
      "Cell \u001b[1;32mIn[87], line 17\u001b[0m\n\u001b[0;32m     13\u001b[0m ALL_RIDERS \u001b[38;5;241m=\u001b[39m [Rider(rider_info) \u001b[38;5;28;01mfor\u001b[39;00m rider_info \u001b[38;5;129;01min\u001b[39;00m prob[\u001b[38;5;124m'\u001b[39m\u001b[38;5;124mRIDERS\u001b[39m\u001b[38;5;124m'\u001b[39m]]\n\u001b[0;32m     15\u001b[0m DIST \u001b[38;5;241m=\u001b[39m np\u001b[38;5;241m.\u001b[39marray(prob[\u001b[38;5;124m'\u001b[39m\u001b[38;5;124mDIST\u001b[39m\u001b[38;5;124m'\u001b[39m])\n\u001b[1;32m---> 17\u001b[0m solution \u001b[38;5;241m=\u001b[39m \u001b[43malgorithm\u001b[49m\u001b[43m(\u001b[49m\u001b[43mK\u001b[49m\u001b[43m,\u001b[49m\u001b[43m \u001b[49m\u001b[43mALL_ORDERS\u001b[49m\u001b[43m,\u001b[49m\u001b[43m \u001b[49m\u001b[43mALL_RIDERS\u001b[49m\u001b[43m,\u001b[49m\u001b[43m \u001b[49m\u001b[43mDIST\u001b[49m\u001b[43m,\u001b[49m\u001b[43m \u001b[49m\u001b[43mtimelimit\u001b[49m\u001b[43m)\u001b[49m\n\u001b[0;32m     19\u001b[0m \u001b[38;5;28;01mwith\u001b[39;00m \u001b[38;5;28mopen\u001b[39m(problem_file, \u001b[38;5;124m'\u001b[39m\u001b[38;5;124mr\u001b[39m\u001b[38;5;124m'\u001b[39m) \u001b[38;5;28;01mas\u001b[39;00m f:\n\u001b[0;32m     20\u001b[0m     prob \u001b[38;5;241m=\u001b[39m json\u001b[38;5;241m.\u001b[39mload(f)\n",
      "File \u001b[1;32m~\\vscode\\LG-CNS\\Han\\weight_update\\based 0704\\myalgorithm.py:50\u001b[0m, in \u001b[0;36malgorithm\u001b[1;34m(K, all_orders, all_riders, dist_mat, timelimit)\u001b[0m\n\u001b[0;32m     48\u001b[0m \u001b[38;5;28;01mif\u001b[39;00m time\u001b[38;5;241m.\u001b[39mtime() \u001b[38;5;241m-\u001b[39m start_time \u001b[38;5;241m>\u001b[39m \u001b[38;5;241m10\u001b[39m\u001b[38;5;241m-\u001b[39mavg_time:\n\u001b[0;32m     49\u001b[0m     \u001b[38;5;28;01mbreak\u001b[39;00m\n\u001b[1;32m---> 50\u001b[0m bundles, result_rider_availables, cost \u001b[38;5;241m=\u001b[39m \u001b[43mget_clustered_bundle_4_order_prefered\u001b[49m\u001b[43m(\u001b[49m\n\u001b[0;32m     51\u001b[0m \u001b[43m    \u001b[49m\u001b[43mK\u001b[49m\u001b[43m,\u001b[49m\u001b[43m \u001b[49m\u001b[43mALL_RIDERS\u001b[49m\u001b[43m,\u001b[49m\u001b[43m \u001b[49m\u001b[43mALL_ORDERS\u001b[49m\u001b[43m,\u001b[49m\u001b[43m \u001b[49m\u001b[43mDIST\u001b[49m\u001b[43m,\u001b[49m\u001b[43m \u001b[49m\u001b[43minit_availables\u001b[49m\u001b[43m,\u001b[49m\u001b[43m \u001b[49m\u001b[43mweight1\u001b[49m\u001b[43m,\u001b[49m\u001b[43m \u001b[49m\u001b[43mweight2\u001b[49m\u001b[43m,\u001b[49m\u001b[43m \u001b[49m\u001b[43mweight3\u001b[49m\u001b[43m)\u001b[49m\n\u001b[0;32m     52\u001b[0m \u001b[38;5;28;01mif\u001b[39;00m cost \u001b[38;5;241m<\u001b[39m min_init_cost:\n\u001b[0;32m     53\u001b[0m     \u001b[38;5;28mprint\u001b[39m(\u001b[38;5;124m'\u001b[39m\u001b[38;5;124mbreak:\u001b[39m\u001b[38;5;124m'\u001b[39m, cost)\n",
      "File \u001b[1;32m~\\vscode\\LG-CNS\\Han\\weight_update\\based 0704\\util_0704.py:73\u001b[0m, in \u001b[0;36mget_clustered_bundle_4_order_prefered\u001b[1;34m(K, ALL_RIDERS, ALL_ORDERS, DIST, init_availables, weight1, weight2, weight3)\u001b[0m\n\u001b[0;32m     70\u001b[0m     assigned_orders\u001b[38;5;241m.\u001b[39madd(\u001b[38;5;28mord\u001b[39m\u001b[38;5;241m.\u001b[39mid)\n\u001b[0;32m     72\u001b[0m cluster_bundles, _ \u001b[38;5;241m=\u001b[39m kruskal_bundling(cluster_K, cluster_Dist, cluster_orders, ALL_RIDERS, weight1, weight2, weight3, try_merging_bundles_by_dist, \u001b[38;5;241m2\u001b[39m, \u001b[38;5;124m'\u001b[39m\u001b[38;5;124mtwo_seq\u001b[39m\u001b[38;5;124m'\u001b[39m, cluster_bundles)\n\u001b[1;32m---> 73\u001b[0m cluster_bundles, _ \u001b[38;5;241m=\u001b[39m \u001b[43mkruskal_bundling\u001b[49m\u001b[43m(\u001b[49m\u001b[43mcluster_K\u001b[49m\u001b[43m,\u001b[49m\u001b[43m \u001b[49m\u001b[43mcluster_Dist\u001b[49m\u001b[43m,\u001b[49m\u001b[43m \u001b[49m\u001b[43mcluster_orders\u001b[49m\u001b[43m,\u001b[49m\u001b[43m \u001b[49m\u001b[43mALL_RIDERS\u001b[49m\u001b[43m,\u001b[49m\u001b[43m \u001b[49m\u001b[43mweight1\u001b[49m\u001b[43m,\u001b[49m\u001b[43m \u001b[49m\u001b[43mweight2\u001b[49m\u001b[43m,\u001b[49m\u001b[43m \u001b[49m\u001b[43mweight3\u001b[49m\u001b[43m,\u001b[49m\u001b[43m \u001b[49m\u001b[43mtry_merging_bundles_by_dist\u001b[49m\u001b[43m,\u001b[49m\u001b[43m \u001b[49m\u001b[38;5;241;43m4\u001b[39;49m\u001b[43m,\u001b[49m\u001b[43m \u001b[49m\u001b[38;5;124;43m'\u001b[39;49m\u001b[38;5;124;43mavg\u001b[39;49m\u001b[38;5;124;43m'\u001b[39;49m\u001b[43m,\u001b[49m\u001b[43m \u001b[49m\u001b[43mcluster_bundles\u001b[49m\u001b[43m)\u001b[49m\n\u001b[0;32m     75\u001b[0m new_cluster_bundles \u001b[38;5;241m=\u001b[39m []\n\u001b[0;32m     76\u001b[0m \u001b[38;5;28;01mfor\u001b[39;00m bundle \u001b[38;5;129;01min\u001b[39;00m cluster_bundles:\n",
      "File \u001b[1;32m~\\vscode\\LG-CNS\\Han\\weight_update\\based 0704\\util_0704.py:265\u001b[0m, in \u001b[0;36mkruskal_bundling\u001b[1;34m(K, DIST, ALL_ORDERS, ALL_RIDERS, weight1, weight2, weight3, bundle_merging_function, order_count_upper_limit, avg_method, all_bundles)\u001b[0m\n\u001b[0;32m    262\u001b[0m \u001b[38;5;28;01mif\u001b[39;00m rbn1 \u001b[38;5;241m==\u001b[39m rbn2:\n\u001b[0;32m    263\u001b[0m     \u001b[38;5;28;01mcontinue\u001b[39;00m\n\u001b[1;32m--> 265\u001b[0m new_bundle \u001b[38;5;241m=\u001b[39m \u001b[43mbundle_merging_function\u001b[49m\u001b[43m(\u001b[49m\u001b[43mK\u001b[49m\u001b[43m,\u001b[49m\u001b[43m \u001b[49m\u001b[43mDIST\u001b[49m\u001b[43m,\u001b[49m\u001b[43m \u001b[49m\u001b[43mALL_ORDERS\u001b[49m\u001b[43m,\u001b[49m\u001b[43m \u001b[49m\u001b[43mALL_RIDERS\u001b[49m\u001b[43m,\u001b[49m\u001b[43m \u001b[49m\u001b[43mall_bundles\u001b[49m\u001b[43m[\u001b[49m\u001b[43mrbn1\u001b[49m\u001b[43m]\u001b[49m\u001b[43m,\u001b[49m\u001b[43m \u001b[49m\u001b[43mall_bundles\u001b[49m\u001b[43m[\u001b[49m\u001b[43mrbn2\u001b[49m\u001b[43m]\u001b[49m\u001b[43m,\u001b[49m\u001b[43m \u001b[49m\u001b[43morder_count_upper_limit\u001b[49m\u001b[43m)\u001b[49m\n\u001b[0;32m    267\u001b[0m \u001b[38;5;28;01mif\u001b[39;00m new_bundle \u001b[38;5;129;01mis\u001b[39;00m \u001b[38;5;129;01mnot\u001b[39;00m \u001b[38;5;28;01mNone\u001b[39;00m:\n\u001b[0;32m    268\u001b[0m     all_bundles[rbn1]\u001b[38;5;241m.\u001b[39mrider\u001b[38;5;241m.\u001b[39mavailable_number \u001b[38;5;241m+\u001b[39m\u001b[38;5;241m=\u001b[39m \u001b[38;5;241m1\u001b[39m\n",
      "File \u001b[1;32m~\\vscode\\LG-CNS\\Han\\weight_update\\based 0704\\util_0704.py:626\u001b[0m, in \u001b[0;36mtry_merging_bundles_by_dist\u001b[1;34m(K, dist_mat, all_orders, all_riders, bundle1, bundle2, order_count_upper_limit, order_count_lower_limit)\u001b[0m\n\u001b[0;32m    624\u001b[0m \u001b[38;5;28;01mfor\u001b[39;00m shop_pem \u001b[38;5;129;01min\u001b[39;00m permutations(merged_orders):\n\u001b[0;32m    625\u001b[0m     \u001b[38;5;28;01mfor\u001b[39;00m dlv_pem \u001b[38;5;129;01min\u001b[39;00m permutations(merged_orders):\n\u001b[1;32m--> 626\u001b[0m         feasibility_check \u001b[38;5;241m=\u001b[39m \u001b[43mtest_route_feasibility\u001b[49m\u001b[43m(\u001b[49m\u001b[43mall_orders\u001b[49m\u001b[43m,\u001b[49m\u001b[43m \u001b[49m\u001b[43mrider\u001b[49m\u001b[43m,\u001b[49m\u001b[43m \u001b[49m\u001b[43mshop_pem\u001b[49m\u001b[43m,\u001b[49m\u001b[43m \u001b[49m\u001b[43mdlv_pem\u001b[49m\u001b[43m)\u001b[49m\n\u001b[0;32m    627\u001b[0m         \u001b[38;5;28;01mif\u001b[39;00m feasibility_check \u001b[38;5;241m==\u001b[39m \u001b[38;5;241m0\u001b[39m: \u001b[38;5;66;03m# feasible!\u001b[39;00m\n\u001b[0;32m    628\u001b[0m             total_dist \u001b[38;5;241m=\u001b[39m get_total_distance(K, dist_mat, shop_pem, dlv_pem)\n",
      "File \u001b[1;32m~\\vscode\\LG-CNS\\Han\\weight_update\\based 0704\\util_0704.py:591\u001b[0m, in \u001b[0;36mtest_route_feasibility\u001b[1;34m(all_orders, rider, shop_seq, dlv_seq)\u001b[0m\n\u001b[0;32m    587\u001b[0m \u001b[38;5;28;01mif\u001b[39;00m total_vol \u001b[38;5;241m>\u001b[39m rider\u001b[38;5;241m.\u001b[39mcapa:\n\u001b[0;32m    588\u001b[0m     \u001b[38;5;66;03m# Capacity overflow!\u001b[39;00m\n\u001b[0;32m    589\u001b[0m     \u001b[38;5;28;01mreturn\u001b[39;00m \u001b[38;5;241m-\u001b[39m\u001b[38;5;241m1\u001b[39m \u001b[38;5;66;03m# Capacity infeasibility\u001b[39;00m\n\u001b[1;32m--> 591\u001b[0m pickup_times, dlv_times \u001b[38;5;241m=\u001b[39m \u001b[43mget_pd_times\u001b[49m\u001b[43m(\u001b[49m\u001b[43mall_orders\u001b[49m\u001b[43m,\u001b[49m\u001b[43m \u001b[49m\u001b[43mrider\u001b[49m\u001b[43m,\u001b[49m\u001b[43m \u001b[49m\u001b[43mshop_seq\u001b[49m\u001b[43m,\u001b[49m\u001b[43m \u001b[49m\u001b[43mdlv_seq\u001b[49m\u001b[43m)\u001b[49m\n\u001b[0;32m    593\u001b[0m \u001b[38;5;28;01mfor\u001b[39;00m k, dlv_time \u001b[38;5;129;01min\u001b[39;00m dlv_times\u001b[38;5;241m.\u001b[39mitems():\n\u001b[0;32m    594\u001b[0m     \u001b[38;5;28;01mif\u001b[39;00m dlv_time \u001b[38;5;241m>\u001b[39m all_orders[k]\u001b[38;5;241m.\u001b[39mdeadline:\n",
      "File \u001b[1;32m~\\vscode\\LG-CNS\\Han\\weight_update\\based 0704\\util_0704.py:561\u001b[0m, in \u001b[0;36mget_pd_times\u001b[1;34m(all_orders, rider, shop_seq, dlv_seq)\u001b[0m\n\u001b[0;32m    558\u001b[0m     t \u001b[38;5;241m=\u001b[39m \u001b[38;5;28mmax\u001b[39m(t\u001b[38;5;241m+\u001b[39mrider\u001b[38;5;241m.\u001b[39mT[k, next_k], all_orders[next_k]\u001b[38;5;241m.\u001b[39mready_time) \u001b[38;5;66;03m# max{travel time + service time, ready time}\u001b[39;00m\n\u001b[0;32m    559\u001b[0m     pickup_times[next_k] \u001b[38;5;241m=\u001b[39m t\n\u001b[1;32m--> 561\u001b[0m     k \u001b[38;5;241m=\u001b[39m next_k\n\u001b[0;32m    563\u001b[0m dlv_times \u001b[38;5;241m=\u001b[39m {}\n\u001b[0;32m    565\u001b[0m k \u001b[38;5;241m=\u001b[39m dlv_seq[\u001b[38;5;241m0\u001b[39m]\n",
      "\u001b[1;31mKeyboardInterrupt\u001b[0m: "
     ]
    }
   ],
   "source": [
    "import pandas as pd\n",
    "\n",
    "result=[]\n",
    "timelimit = 60\n",
    "for i in range(1, 19):\n",
    "    problem_file = f\"C:/Users/cjfgh/vscode/LG-CNS/@shared/testfile/STAGE1_{i}.json\"\n",
    "    with open(problem_file, 'r') as f:\n",
    "        prob = json.load(f)\n",
    "\n",
    "    K = prob['K']\n",
    "\n",
    "    ALL_ORDERS = [Order(order_info) for order_info in prob['ORDERS']]\n",
    "    ALL_RIDERS = [Rider(rider_info) for rider_info in prob['RIDERS']]\n",
    "\n",
    "    DIST = np.array(prob['DIST'])\n",
    "\n",
    "    solution = algorithm(K, ALL_ORDERS, ALL_RIDERS, DIST, timelimit)\n",
    "    \n",
    "    with open(problem_file, 'r') as f:\n",
    "        prob = json.load(f)\n",
    "        K = prob['K']\n",
    "        ALL_ORDERS = [Order(order_info) for order_info in prob['ORDERS']]\n",
    "        ALL_RIDERS = [Rider(rider_info) for rider_info in prob['RIDERS']]\n",
    "        DIST = np.array(prob['DIST'])\n",
    "        for r in ALL_RIDERS:\n",
    "            r.T = np.round(DIST/r.speed + r.service_time).astype(int)\n",
    "\n",
    "    \n",
    "        checked_solution = solution_check(K, ALL_ORDERS, ALL_RIDERS, DIST, solution)\n",
    "\n",
    "    result.append(checked_solution['avg_cost'])\n",
    "    print(f\"STAGE1_{i}.json: {checked_solution['avg_cost']}\")\n",
    "\n",
    "df=pd.DataFrame(result)\n"
   ]
  },
  {
   "cell_type": "code",
   "execution_count": 19,
   "metadata": {},
   "outputs": [
    {
     "name": "stdout",
     "output_type": "stream",
     "text": [
      "total mean:0    3270.614687\n",
      "dtype: float64\n",
      "평균 이상 케이스 평균:0    3864.16625\n",
      "dtype: float64\n",
      "평균 이하 케이스 평균:0    2677.063125\n",
      "dtype: float64\n"
     ]
    }
   ],
   "source": [
    "print(f\"total mean:{df.mean()}\")\n",
    "print(f\"평균 이상 케이스 평균:{df[df>=df.mean()].mean()}\") \n",
    "print(f\"평균 이하 케이스 평균:{df[df<=df.mean()].mean()}\")"
   ]
  },
  {
   "cell_type": "code",
   "execution_count": null,
   "metadata": {},
   "outputs": [],
   "source": []
  }
 ],
 "metadata": {
  "kernelspec": {
   "display_name": "Python 3 (ipykernel)",
   "language": "python",
   "name": "python3"
  },
  "language_info": {
   "codemirror_mode": {
    "name": "ipython",
    "version": 3
   },
   "file_extension": ".py",
   "mimetype": "text/x-python",
   "name": "python",
   "nbconvert_exporter": "python",
   "pygments_lexer": "ipython3",
   "version": "3.11.2"
  }
 },
 "nbformat": 4,
 "nbformat_minor": 4
}
