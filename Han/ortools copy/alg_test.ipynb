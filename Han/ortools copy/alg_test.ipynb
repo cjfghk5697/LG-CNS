{
 "cells": [
  {
   "cell_type": "code",
   "execution_count": 31,
   "metadata": {},
   "outputs": [],
   "source": [
    "import json\n",
    "import numpy as np\n",
    "import time\n",
    "from util import *\n",
    "from myalgorithm import *"
   ]
  },
  {
   "cell_type": "markdown",
   "metadata": {},
   "source": [
    "### 제출본"
   ]
  },
  {
   "cell_type": "code",
   "execution_count": 52,
   "metadata": {},
   "outputs": [
    {
     "ename": "TypeError",
     "evalue": "algorithm() missing 1 required positional argument: 'dist_mat'",
     "output_type": "error",
     "traceback": [
      "\u001b[1;31m---------------------------------------------------------------------------\u001b[0m",
      "\u001b[1;31mTypeError\u001b[0m                                 Traceback (most recent call last)",
      "Cell \u001b[1;32mIn[52], line 21\u001b[0m\n\u001b[0;32m     18\u001b[0m ALL_RIDERS \u001b[38;5;241m=\u001b[39m [Rider(rider_info) \u001b[38;5;28;01mfor\u001b[39;00m rider_info \u001b[38;5;129;01min\u001b[39;00m prob[\u001b[38;5;124m'\u001b[39m\u001b[38;5;124mRIDERS\u001b[39m\u001b[38;5;124m'\u001b[39m]]\n\u001b[0;32m     19\u001b[0m DIST \u001b[38;5;241m=\u001b[39m np\u001b[38;5;241m.\u001b[39marray(prob[\u001b[38;5;124m'\u001b[39m\u001b[38;5;124mDIST\u001b[39m\u001b[38;5;124m'\u001b[39m])\n\u001b[1;32m---> 21\u001b[0m solution, avg_cost \u001b[38;5;241m=\u001b[39m \u001b[43malgorithm\u001b[49m\u001b[43m(\u001b[49m\u001b[43mALL_ORDERS\u001b[49m\u001b[43m,\u001b[49m\u001b[43m \u001b[49m\u001b[43mALL_RIDERS\u001b[49m\u001b[43m,\u001b[49m\u001b[43m \u001b[49m\u001b[43mDIST\u001b[49m\u001b[43m)\u001b[49m\n\u001b[0;32m     23\u001b[0m \u001b[38;5;28;01mif\u001b[39;00m solution \u001b[38;5;129;01mis\u001b[39;00m \u001b[38;5;28;01mNone\u001b[39;00m \u001b[38;5;129;01mor\u001b[39;00m \u001b[38;5;129;01mnot\u001b[39;00m \u001b[38;5;28misinstance\u001b[39m(solution, \u001b[38;5;28mlist\u001b[39m):\n\u001b[0;32m     24\u001b[0m     \u001b[38;5;28mprint\u001b[39m(\u001b[38;5;124m\"\u001b[39m\u001b[38;5;124mSolution is not valid or an exception occurred.\u001b[39m\u001b[38;5;124m\"\u001b[39m)\n",
      "\u001b[1;31mTypeError\u001b[0m: algorithm() missing 1 required positional argument: 'dist_mat'"
     ]
    }
   ],
   "source": [
    "# test.ipynb\n",
    "import json\n",
    "import numpy as np\n",
    "import time\n",
    "from util import *\n",
    "from myalgorithm import *\n",
    "\n",
    "# 파일 경로 및 시간 설정\n",
    "timelimit = 60  # 예: 60초\n",
    "# 테스트 실행\n",
    "problem_file = f\"C:/Users/cjfgh/vscode/LG-CNS/@shared/testfile/STAGE1_1.json\"\n",
    "\n",
    "with open(problem_file, 'r') as f:\n",
    "    prob = json.load(f)\n",
    "\n",
    "K = prob['K']\n",
    "ALL_ORDERS = [Order(order_info) for order_info in prob['ORDERS']]\n",
    "ALL_RIDERS = [Rider(rider_info) for rider_info in prob['RIDERS']]\n",
    "DIST = np.array(prob['DIST'])\n",
    "\n",
    "solution, avg_cost = algorithm(ALL_ORDERS, ALL_RIDERS, DIST)\n",
    "\n",
    "if solution is None or not isinstance(solution, list):\n",
    "    print(\"Solution is not valid or an exception occurred.\")\n",
    "else:\n",
    "    print(\"Solution found:\")\n",
    "    print(solution)\n",
    "    print(f\"Average cost: {avg_cost}\")\n",
    "with open(problem_file, 'r') as f:\n",
    "    prob = json.load(f)\n",
    "\n",
    "K = prob['K']\n",
    "ALL_ORDERS = [Order(order_info) for order_info in prob['ORDERS']]\n",
    "ALL_RIDERS = [Rider(rider_info) for rider_info in prob['RIDERS']]\n",
    "DIST = np.array(prob['DIST'])\n",
    "\n",
    "start_time = time.time()\n",
    "\n",
    "solution, avg_cost = algorithm(ALL_ORDERS, ALL_RIDERS, DIST, timelimit)\n",
    "\n",
    "end_time = time.time()\n",
    "\n",
    "if solution is None or not isinstance(solution, list):\n",
    "    print(\"Solution is not valid or an exception occurred.\")\n",
    "else:\n",
    "    print(\"Solution found:\")\n",
    "    print(solution)\n",
    "    print(f\"Average cost: {avg_cost}\")\n",
    "    print(f\"Time taken: {end_time - start_time} seconds\")\n"
   ]
  },
  {
   "cell_type": "code",
   "execution_count": 28,
   "metadata": {},
   "outputs": [
    {
     "name": "stdout",
     "output_type": "stream",
     "text": [
      "Solution must be a list!\n"
     ]
    }
   ],
   "source": [
    "print(checked_solution)"
   ]
  },
  {
   "cell_type": "code",
   "execution_count": null,
   "metadata": {},
   "outputs": [],
   "source": []
  }
 ],
 "metadata": {
  "kernelspec": {
   "display_name": "Python 3 (ipykernel)",
   "language": "python",
   "name": "python3"
  },
  "language_info": {
   "codemirror_mode": {
    "name": "ipython",
    "version": 3
   },
   "file_extension": ".py",
   "mimetype": "text/x-python",
   "name": "python",
   "nbconvert_exporter": "python",
   "pygments_lexer": "ipython3",
   "version": "3.11.2"
  }
 },
 "nbformat": 4,
 "nbformat_minor": 4
}
