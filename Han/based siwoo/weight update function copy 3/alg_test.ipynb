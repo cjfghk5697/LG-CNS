{
 "cells": [
  {
   "cell_type": "code",
   "execution_count": 1,
   "metadata": {},
   "outputs": [],
   "source": [
    "%load_ext autoreload\n",
    "%autoreload 2\n",
    "\n",
    "import traceback\n",
    "from util import *\n",
    "\n",
    "from han_SA_myalgorithm import algorithm\n",
    "\n"
   ]
  },
  {
   "cell_type": "code",
   "execution_count": 3,
   "metadata": {
    "scrolled": true
   },
   "outputs": [
    {
     "name": "stdout",
     "output_type": "stream",
     "text": [
      "SA start\n",
      "STAGE1_1.json: 3736.2259999999997\n",
      "SA start\n",
      "STAGE1_2.json: 3396.2180000000003\n",
      "SA start\n",
      "STAGE1_3.json: 3115.4639999999995\n"
     ]
    },
    {
     "ename": "KeyboardInterrupt",
     "evalue": "",
     "output_type": "error",
     "traceback": [
      "\u001b[1;31m---------------------------------------------------------------------------\u001b[0m",
      "\u001b[1;31mKeyboardInterrupt\u001b[0m                         Traceback (most recent call last)",
      "Cell \u001b[1;32mIn[3], line 29\u001b[0m\n\u001b[0;32m     26\u001b[0m solution \u001b[38;5;241m=\u001b[39m \u001b[38;5;28;01mNone\u001b[39;00m\n\u001b[0;32m     27\u001b[0m \u001b[38;5;28;01mtry\u001b[39;00m:\n\u001b[0;32m     28\u001b[0m     \u001b[38;5;66;03m# Run algorithm!\u001b[39;00m\n\u001b[1;32m---> 29\u001b[0m     solution \u001b[38;5;241m=\u001b[39m \u001b[43malgorithm\u001b[49m\u001b[43m(\u001b[49m\u001b[43mK\u001b[49m\u001b[43m,\u001b[49m\u001b[43m \u001b[49m\u001b[43mALL_ORDERS\u001b[49m\u001b[43m,\u001b[49m\u001b[43m \u001b[49m\u001b[43mALL_RIDERS\u001b[49m\u001b[43m,\u001b[49m\u001b[43m \u001b[49m\u001b[43mDIST\u001b[49m\u001b[43m,\u001b[49m\u001b[43m \u001b[49m\u001b[43mtimelimit\u001b[49m\u001b[43m)\u001b[49m\n\u001b[0;32m     30\u001b[0m \u001b[38;5;28;01mexcept\u001b[39;00m \u001b[38;5;167;01mException\u001b[39;00m \u001b[38;5;28;01mas\u001b[39;00m e:\n\u001b[0;32m     31\u001b[0m     exception \u001b[38;5;241m=\u001b[39m \u001b[38;5;124mf\u001b[39m\u001b[38;5;124m'\u001b[39m\u001b[38;5;132;01m{\u001b[39;00me\u001b[38;5;132;01m}\u001b[39;00m\u001b[38;5;124m'\u001b[39m\n",
      "File \u001b[1;32mc:\\Users\\cjfgh\\vscode\\LG-CNS\\Han\\based siwoo\\weight update function copy 2\\han_SA_myalgorithm.py:230\u001b[0m, in \u001b[0;36malgorithm\u001b[1;34m(K, all_orders, all_riders, dist_mat, timelimit)\u001b[0m\n\u001b[0;32m    225\u001b[0m min_init_cost_rider_availables \u001b[38;5;241m=\u001b[39m []\n\u001b[0;32m    227\u001b[0m \u001b[38;5;66;03m# try_merging_bundles_by_dist // 모든 배달원과 모든 조합에서의 최소 거리를 보는 케이스\u001b[39;00m\n\u001b[0;32m    228\u001b[0m \u001b[38;5;66;03m# try_merging_bundles_by_dist_walk_prefered // 위와 동일하지만 우선적으로 도보 배달원을 할당하는 케이스\u001b[39;00m\n\u001b[0;32m    229\u001b[0m \u001b[38;5;66;03m# try_merging_bundles_by_cost // 번들 합칠 때 거리가 아닌 비용을 보는 케이스\u001b[39;00m\n\u001b[1;32m--> 230\u001b[0m min_init_cost_bundles, min_init_cost_rider_availables \u001b[38;5;241m=\u001b[39m\u001b[43mparallel_simulated_annealing_with_cawr\u001b[49m\u001b[43m(\u001b[49m\u001b[43mK\u001b[49m\u001b[43m,\u001b[49m\u001b[43m \u001b[49m\u001b[43mall_orders\u001b[49m\u001b[43m,\u001b[49m\u001b[43m \u001b[49m\u001b[43mall_riders\u001b[49m\u001b[43m,\u001b[49m\u001b[43m \u001b[49m\u001b[43mdist_mat\u001b[49m\u001b[43m,\u001b[49m\u001b[43m \u001b[49m\u001b[38;5;241;43m25\u001b[39;49m\u001b[43m)\u001b[49m\n\u001b[0;32m    231\u001b[0m \u001b[38;5;28;01mfor\u001b[39;00m rider_i \u001b[38;5;129;01min\u001b[39;00m \u001b[38;5;28mrange\u001b[39m(\u001b[38;5;241m3\u001b[39m):\n\u001b[0;32m    232\u001b[0m     ALL_RIDERS[rider_i]\u001b[38;5;241m.\u001b[39mavailable_number \u001b[38;5;241m=\u001b[39m min_init_cost_rider_availables[rider_i]\n",
      "File \u001b[1;32mc:\\Users\\cjfgh\\vscode\\LG-CNS\\Han\\based siwoo\\weight update function copy 2\\han_SA_myalgorithm.py:104\u001b[0m, in \u001b[0;36mparallel_simulated_annealing_with_cawr\u001b[1;34m(K, all_orders, all_riders, dist_mat, timelimit)\u001b[0m\n\u001b[0;32m     99\u001b[0m results \u001b[38;5;241m=\u001b[39m [pool\u001b[38;5;241m.\u001b[39mapply_async(simulated_annealing_weights_with_cawr, args\u001b[38;5;241m=\u001b[39m(\n\u001b[0;32m    100\u001b[0m K, all_orders, all_riders, dist_mat, timelimit, seeds[i], T0_values[i], T_mult_values[i], min_T_values[i], weight_change_range[i], restart_period_values[i])) \n\u001b[0;32m    101\u001b[0m            \u001b[38;5;28;01mfor\u001b[39;00m i \u001b[38;5;129;01min\u001b[39;00m \u001b[38;5;28mrange\u001b[39m(num_processes)]\n\u001b[0;32m    103\u001b[0m \u001b[38;5;66;03m# Collect results\u001b[39;00m\n\u001b[1;32m--> 104\u001b[0m solutions \u001b[38;5;241m=\u001b[39m \u001b[43m[\u001b[49m\u001b[43mres\u001b[49m\u001b[38;5;241;43m.\u001b[39;49m\u001b[43mget\u001b[49m\u001b[43m(\u001b[49m\u001b[43m)\u001b[49m\u001b[43m \u001b[49m\u001b[38;5;28;43;01mfor\u001b[39;49;00m\u001b[43m \u001b[49m\u001b[43mres\u001b[49m\u001b[43m \u001b[49m\u001b[38;5;129;43;01min\u001b[39;49;00m\u001b[43m \u001b[49m\u001b[43mresults\u001b[49m\u001b[43m]\u001b[49m\n\u001b[0;32m    106\u001b[0m \u001b[38;5;66;03m# Find the best solution\u001b[39;00m\n\u001b[0;32m    107\u001b[0m final_bundles, final_rider \u001b[38;5;241m=\u001b[39m \u001b[38;5;28mmin\u001b[39m(solutions, key\u001b[38;5;241m=\u001b[39m\u001b[38;5;28;01mlambda\u001b[39;00m x: x[\u001b[38;5;241m1\u001b[39m])\n",
      "File \u001b[1;32mc:\\Users\\cjfgh\\vscode\\LG-CNS\\Han\\based siwoo\\weight update function copy 2\\han_SA_myalgorithm.py:104\u001b[0m, in \u001b[0;36m<listcomp>\u001b[1;34m(.0)\u001b[0m\n\u001b[0;32m     99\u001b[0m results \u001b[38;5;241m=\u001b[39m [pool\u001b[38;5;241m.\u001b[39mapply_async(simulated_annealing_weights_with_cawr, args\u001b[38;5;241m=\u001b[39m(\n\u001b[0;32m    100\u001b[0m K, all_orders, all_riders, dist_mat, timelimit, seeds[i], T0_values[i], T_mult_values[i], min_T_values[i], weight_change_range[i], restart_period_values[i])) \n\u001b[0;32m    101\u001b[0m            \u001b[38;5;28;01mfor\u001b[39;00m i \u001b[38;5;129;01min\u001b[39;00m \u001b[38;5;28mrange\u001b[39m(num_processes)]\n\u001b[0;32m    103\u001b[0m \u001b[38;5;66;03m# Collect results\u001b[39;00m\n\u001b[1;32m--> 104\u001b[0m solutions \u001b[38;5;241m=\u001b[39m [\u001b[43mres\u001b[49m\u001b[38;5;241;43m.\u001b[39;49m\u001b[43mget\u001b[49m\u001b[43m(\u001b[49m\u001b[43m)\u001b[49m \u001b[38;5;28;01mfor\u001b[39;00m res \u001b[38;5;129;01min\u001b[39;00m results]\n\u001b[0;32m    106\u001b[0m \u001b[38;5;66;03m# Find the best solution\u001b[39;00m\n\u001b[0;32m    107\u001b[0m final_bundles, final_rider \u001b[38;5;241m=\u001b[39m \u001b[38;5;28mmin\u001b[39m(solutions, key\u001b[38;5;241m=\u001b[39m\u001b[38;5;28;01mlambda\u001b[39;00m x: x[\u001b[38;5;241m1\u001b[39m])\n",
      "File \u001b[1;32mc:\\Users\\cjfgh\\anaconda3\\Lib\\multiprocessing\\pool.py:768\u001b[0m, in \u001b[0;36mApplyResult.get\u001b[1;34m(self, timeout)\u001b[0m\n\u001b[0;32m    767\u001b[0m \u001b[38;5;28;01mdef\u001b[39;00m \u001b[38;5;21mget\u001b[39m(\u001b[38;5;28mself\u001b[39m, timeout\u001b[38;5;241m=\u001b[39m\u001b[38;5;28;01mNone\u001b[39;00m):\n\u001b[1;32m--> 768\u001b[0m     \u001b[38;5;28;43mself\u001b[39;49m\u001b[38;5;241;43m.\u001b[39;49m\u001b[43mwait\u001b[49m\u001b[43m(\u001b[49m\u001b[43mtimeout\u001b[49m\u001b[43m)\u001b[49m\n\u001b[0;32m    769\u001b[0m     \u001b[38;5;28;01mif\u001b[39;00m \u001b[38;5;129;01mnot\u001b[39;00m \u001b[38;5;28mself\u001b[39m\u001b[38;5;241m.\u001b[39mready():\n\u001b[0;32m    770\u001b[0m         \u001b[38;5;28;01mraise\u001b[39;00m \u001b[38;5;167;01mTimeoutError\u001b[39;00m\n",
      "File \u001b[1;32mc:\\Users\\cjfgh\\anaconda3\\Lib\\multiprocessing\\pool.py:765\u001b[0m, in \u001b[0;36mApplyResult.wait\u001b[1;34m(self, timeout)\u001b[0m\n\u001b[0;32m    764\u001b[0m \u001b[38;5;28;01mdef\u001b[39;00m \u001b[38;5;21mwait\u001b[39m(\u001b[38;5;28mself\u001b[39m, timeout\u001b[38;5;241m=\u001b[39m\u001b[38;5;28;01mNone\u001b[39;00m):\n\u001b[1;32m--> 765\u001b[0m     \u001b[38;5;28;43mself\u001b[39;49m\u001b[38;5;241;43m.\u001b[39;49m\u001b[43m_event\u001b[49m\u001b[38;5;241;43m.\u001b[39;49m\u001b[43mwait\u001b[49m\u001b[43m(\u001b[49m\u001b[43mtimeout\u001b[49m\u001b[43m)\u001b[49m\n",
      "File \u001b[1;32mc:\\Users\\cjfgh\\anaconda3\\Lib\\threading.py:629\u001b[0m, in \u001b[0;36mEvent.wait\u001b[1;34m(self, timeout)\u001b[0m\n\u001b[0;32m    627\u001b[0m signaled \u001b[38;5;241m=\u001b[39m \u001b[38;5;28mself\u001b[39m\u001b[38;5;241m.\u001b[39m_flag\n\u001b[0;32m    628\u001b[0m \u001b[38;5;28;01mif\u001b[39;00m \u001b[38;5;129;01mnot\u001b[39;00m signaled:\n\u001b[1;32m--> 629\u001b[0m     signaled \u001b[38;5;241m=\u001b[39m \u001b[38;5;28;43mself\u001b[39;49m\u001b[38;5;241;43m.\u001b[39;49m\u001b[43m_cond\u001b[49m\u001b[38;5;241;43m.\u001b[39;49m\u001b[43mwait\u001b[49m\u001b[43m(\u001b[49m\u001b[43mtimeout\u001b[49m\u001b[43m)\u001b[49m\n\u001b[0;32m    630\u001b[0m \u001b[38;5;28;01mreturn\u001b[39;00m signaled\n",
      "File \u001b[1;32mc:\\Users\\cjfgh\\anaconda3\\Lib\\threading.py:327\u001b[0m, in \u001b[0;36mCondition.wait\u001b[1;34m(self, timeout)\u001b[0m\n\u001b[0;32m    325\u001b[0m \u001b[38;5;28;01mtry\u001b[39;00m:    \u001b[38;5;66;03m# restore state no matter what (e.g., KeyboardInterrupt)\u001b[39;00m\n\u001b[0;32m    326\u001b[0m     \u001b[38;5;28;01mif\u001b[39;00m timeout \u001b[38;5;129;01mis\u001b[39;00m \u001b[38;5;28;01mNone\u001b[39;00m:\n\u001b[1;32m--> 327\u001b[0m         \u001b[43mwaiter\u001b[49m\u001b[38;5;241;43m.\u001b[39;49m\u001b[43macquire\u001b[49m\u001b[43m(\u001b[49m\u001b[43m)\u001b[49m\n\u001b[0;32m    328\u001b[0m         gotit \u001b[38;5;241m=\u001b[39m \u001b[38;5;28;01mTrue\u001b[39;00m\n\u001b[0;32m    329\u001b[0m     \u001b[38;5;28;01melse\u001b[39;00m:\n",
      "\u001b[1;31mKeyboardInterrupt\u001b[0m: "
     ]
    }
   ],
   "source": [
    "timelimit = 60\n",
    "result=[]\n",
    "problem_files=[f\"stage/STAGE1_{i}.json\" for i in range(1, 19)]\n",
    "problem_files.append([\"alg_test_problems_20240429/TEST_K50_1.json\", \"alg_test_problems_20240429/TEST_K50_2.json\", \"alg_test_problems_20240429/TEST_K100_1.json\",\"alg_test_problems_20240429/TEST_K100_2.json\", \"alg_test_problems_20240429/TEST_K200_1.json\", \"alg_test_problems_20240429/TEST_K200_2.json\"])\n",
    "for problem_file in problem_files:\n",
    "    with open(problem_file, 'r') as f:\n",
    "        prob = json.load(f)\n",
    "\n",
    "    K = prob['K']\n",
    "\n",
    "    ALL_ORDERS = [Order(order_info) for order_info in prob['ORDERS']]\n",
    "    ALL_RIDERS = [Rider(rider_info) for rider_info in prob['RIDERS']]\n",
    "\n",
    "    DIST = np.array(prob['DIST'])\n",
    "    for r in ALL_RIDERS:\n",
    "        r.T = np.round(DIST/r.speed + r.service_time)\n",
    "\n",
    "    alg_start_time = time.time()\n",
    "\n",
    "    exception = None\n",
    "\n",
    "    solution = None\n",
    "    try:\n",
    "        # Run algorithm!\n",
    "        solution = algorithm(K, ALL_ORDERS, ALL_RIDERS, DIST, timelimit)\n",
    "    except Exception as e:\n",
    "        exception = f'{e}'\n",
    "        print(traceback.format_exc())\n",
    "\n",
    "\n",
    "    alg_end_time = time.time()\n",
    "\n",
    "    with open(problem_file, 'r') as f:\n",
    "        prob = json.load(f)\n",
    "\n",
    "    K = prob['K']\n",
    "\n",
    "    ALL_ORDERS = [Order(order_info) for order_info in prob['ORDERS']]\n",
    "    ALL_RIDERS = [Rider(rider_info) for rider_info in prob['RIDERS']]\n",
    "\n",
    "    DIST = np.array(prob['DIST'])\n",
    "    for r in ALL_RIDERS:\n",
    "        r.T = np.round(DIST/r.speed + r.service_time)\n",
    "\n",
    "    checked_solution = solution_check(K, ALL_ORDERS, ALL_RIDERS, DIST, solution)\n",
    "\n",
    "    checked_solution['time'] = alg_end_time - alg_start_time\n",
    "    checked_solution['timelimit_exception'] = (alg_end_time - alg_start_time) > timelimit + 1 # allowing additional 1 second!\n",
    "    checked_solution['exception'] = exception\n",
    "\n",
    "    checked_solution['prob_name'] = prob['name']\n",
    "    checked_solution['prob_file'] = problem_file\n",
    "\n",
    "    result.append(checked_solution['avg_cost'])\n",
    "    print(f\"{problem_file}: {checked_solution['avg_cost']}\")"
   ]
  },
  {
   "cell_type": "code",
   "execution_count": 13,
   "metadata": {},
   "outputs": [
    {
     "data": {
      "text/html": [
       "<div>\n",
       "<style scoped>\n",
       "    .dataframe tbody tr th:only-of-type {\n",
       "        vertical-align: middle;\n",
       "    }\n",
       "\n",
       "    .dataframe tbody tr th {\n",
       "        vertical-align: top;\n",
       "    }\n",
       "\n",
       "    .dataframe thead th {\n",
       "        text-align: right;\n",
       "    }\n",
       "</style>\n",
       "<table border=\"1\" class=\"dataframe\">\n",
       "  <thead>\n",
       "    <tr style=\"text-align: right;\">\n",
       "      <th></th>\n",
       "      <th>0</th>\n",
       "    </tr>\n",
       "  </thead>\n",
       "  <tbody>\n",
       "    <tr>\n",
       "      <th>1</th>\n",
       "      <td>3702.716000</td>\n",
       "    </tr>\n",
       "    <tr>\n",
       "      <th>2</th>\n",
       "      <td>3358.838000</td>\n",
       "    </tr>\n",
       "    <tr>\n",
       "      <th>3</th>\n",
       "      <td>3084.609000</td>\n",
       "    </tr>\n",
       "    <tr>\n",
       "      <th>4</th>\n",
       "      <td>2737.435500</td>\n",
       "    </tr>\n",
       "    <tr>\n",
       "      <th>5</th>\n",
       "      <td>2318.971333</td>\n",
       "    </tr>\n",
       "    <tr>\n",
       "      <th>6</th>\n",
       "      <td>2547.351000</td>\n",
       "    </tr>\n",
       "    <tr>\n",
       "      <th>7</th>\n",
       "      <td>3527.067000</td>\n",
       "    </tr>\n",
       "    <tr>\n",
       "      <th>8</th>\n",
       "      <td>3272.438000</td>\n",
       "    </tr>\n",
       "    <tr>\n",
       "      <th>9</th>\n",
       "      <td>3076.417500</td>\n",
       "    </tr>\n",
       "    <tr>\n",
       "      <th>10</th>\n",
       "      <td>2616.171000</td>\n",
       "    </tr>\n",
       "    <tr>\n",
       "      <th>11</th>\n",
       "      <td>2514.321333</td>\n",
       "    </tr>\n",
       "    <tr>\n",
       "      <th>12</th>\n",
       "      <td>2560.090667</td>\n",
       "    </tr>\n",
       "    <tr>\n",
       "      <th>13</th>\n",
       "      <td>5108.568000</td>\n",
       "    </tr>\n",
       "    <tr>\n",
       "      <th>14</th>\n",
       "      <td>4264.738000</td>\n",
       "    </tr>\n",
       "    <tr>\n",
       "      <th>15</th>\n",
       "      <td>4341.393500</td>\n",
       "    </tr>\n",
       "    <tr>\n",
       "      <th>16</th>\n",
       "      <td>3345.862000</td>\n",
       "    </tr>\n",
       "    <tr>\n",
       "      <th>17</th>\n",
       "      <td>3567.251333</td>\n",
       "    </tr>\n",
       "    <tr>\n",
       "      <th>18</th>\n",
       "      <td>3660.305000</td>\n",
       "    </tr>\n",
       "  </tbody>\n",
       "</table>\n",
       "</div>"
      ],
      "text/plain": [
       "              0\n",
       "1   3702.716000\n",
       "2   3358.838000\n",
       "3   3084.609000\n",
       "4   2737.435500\n",
       "5   2318.971333\n",
       "6   2547.351000\n",
       "7   3527.067000\n",
       "8   3272.438000\n",
       "9   3076.417500\n",
       "10  2616.171000\n",
       "11  2514.321333\n",
       "12  2560.090667\n",
       "13  5108.568000\n",
       "14  4264.738000\n",
       "15  4341.393500\n",
       "16  3345.862000\n",
       "17  3567.251333\n",
       "18  3660.305000"
      ]
     },
     "execution_count": 13,
     "metadata": {},
     "output_type": "execute_result"
    }
   ],
   "source": [
    "import pandas as pd\n",
    "df=pd.DataFrame(result, index=(range(1,19)))\n",
    "df"
   ]
  },
  {
   "cell_type": "code",
   "execution_count": 14,
   "metadata": {},
   "outputs": [
    {
     "data": {
      "text/plain": [
       "0    59604.544167\n",
       "dtype: float64"
      ]
     },
     "execution_count": 14,
     "metadata": {},
     "output_type": "execute_result"
    }
   ],
   "source": [
    "df.sum()"
   ]
  },
  {
   "cell_type": "code",
   "execution_count": null,
   "metadata": {},
   "outputs": [],
   "source": [
    "draw_route_solution(ALL_ORDERS, checked_solution)"
   ]
  },
  {
   "cell_type": "code",
   "execution_count": null,
   "metadata": {},
   "outputs": [],
   "source": [
    "draw_bundle_solution(ALL_ORDERS, ALL_RIDERS, DIST, checked_solution)"
   ]
  },
  {
   "cell_type": "code",
   "execution_count": null,
   "metadata": {},
   "outputs": [],
   "source": []
  },
  {
   "cell_type": "code",
   "execution_count": null,
   "metadata": {},
   "outputs": [],
   "source": []
  }
 ],
 "metadata": {
  "kernelspec": {
   "display_name": "Python 3 (ipykernel)",
   "language": "python",
   "name": "python3"
  },
  "language_info": {
   "codemirror_mode": {
    "name": "ipython",
    "version": 3
   },
   "file_extension": ".py",
   "mimetype": "text/x-python",
   "name": "python",
   "nbconvert_exporter": "python",
   "pygments_lexer": "ipython3",
   "version": "3.11.7"
  }
 },
 "nbformat": 4,
 "nbformat_minor": 4
}
