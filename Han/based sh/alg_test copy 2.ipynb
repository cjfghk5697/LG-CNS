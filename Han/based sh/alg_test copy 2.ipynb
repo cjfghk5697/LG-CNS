{
 "cells": [
  {
   "cell_type": "code",
   "execution_count": 2,
   "metadata": {},
   "outputs": [
    {
     "name": "stdout",
     "output_type": "stream",
     "text": [
      "C:\\Users\\cjfgh\\vscode\\LG-CNS\\Han\\based sh\\new weight copy 2\n"
     ]
    }
   ],
   "source": [
    "%cd \"C:\\Users\\cjfgh\\vscode\\LG-CNS\\Han\\based sh\\new weight copy 2\"\n"
   ]
  },
  {
   "cell_type": "code",
   "execution_count": 3,
   "metadata": {},
   "outputs": [],
   "source": [
    "%load_ext autoreload\n",
    "%autoreload 2\n",
    "\n",
    "from util_0704 import *\n",
    "from myalgorithm import algorithm\n",
    "\n",
    "import pandas as pd\n",
    "\n",
    "\n",
    "import matplotlib as mpl\n",
    "from matplotlib import pyplot\n",
    "import numpy as np\n",
    "import seaborn as sns"
   ]
  },
  {
   "cell_type": "markdown",
   "metadata": {},
   "source": [
    "### 제출본"
   ]
  },
  {
   "cell_type": "code",
   "execution_count": 5,
   "metadata": {},
   "outputs": [
    {
     "name": "stdout",
     "output_type": "stream",
     "text": [
      "stage/STAGE1_1.json 100 430 3726.466000000001 (0.7451494775004797, -8.1274662195922, 4.967619385227717, 7.79022492939026)\n",
      "stage/STAGE1_2.json 100 212 3335.6859999999997 (0.319593640633024, -7.481222356795105, 2.788740901346596, 4.108037672092205)\n",
      "stage/STAGE1_3.json 200 124 3038.4969999999994 (2.700531906432886, -0.40093275461004807, 3.8870939472051975, 3.805248959903224)\n"
     ]
    }
   ],
   "source": [
    "timelimit = 60\n",
    "result=[]\n",
    "test_files=[f\"stage/STAGE1_{i}.json\" for i in range(1, 19)]+[\"stage/TEST_K50_1.json\", \"stage/TEST_K50_2.json\", \"stage/TEST_K100_1.json\",\"stage/TEST_K100_2.json\", \"stage/TEST_K200_1.json\", \"stage/TEST_K200_2.json\"]\n",
    "for test_file in test_files:\n",
    "    with open(test_file, 'r') as f:\n",
    "        prob = json.load(f)\n",
    "\n",
    "\n",
    "    K = prob['K']\n",
    "\n",
    "    ALL_ORDERS = [Order(order_info) for order_info in prob['ORDERS']]\n",
    "    ALL_RIDERS = [Rider(rider_info) for rider_info in prob['RIDERS']]\n",
    "\n",
    "    DIST = np.array(prob['DIST'])\n",
    "    for r in ALL_RIDERS:\n",
    "        r.T = np.round(DIST/r.speed + r.service_time).astype(int)\n",
    "\n",
    "    inf = float('inf')\n",
    "\n",
    "    timelimit = 60\n",
    "\n",
    "    processed_weight_comb_c, min_init_cost, min_weight_comb = algorithm(K, ALL_ORDERS, ALL_RIDERS, DIST, timelimit)\n",
    "    print(test_file, K, processed_weight_comb_c, min_init_cost, min_weight_comb)\n",
    "    result.append(min_init_cost)\n"
   ]
  },
  {
   "cell_type": "code",
   "execution_count": 19,
   "metadata": {},
   "outputs": [
    {
     "name": "stdout",
     "output_type": "stream",
     "text": [
      "total mean:0    3270.614687\n",
      "dtype: float64\n",
      "평균 이상 케이스 평균:0    3864.16625\n",
      "dtype: float64\n",
      "평균 이하 케이스 평균:0    2677.063125\n",
      "dtype: float64\n"
     ]
    }
   ],
   "source": [
    "print(f\"total mean:{df.mean()}\")\n",
    "print(f\"평균 이상 케이스 평균:{df[df>=df.mean()].mean()}\") \n",
    "print(f\"평균 이하 케이스 평균:{df[df<=df.mean()].mean()}\")"
   ]
  },
  {
   "cell_type": "code",
   "execution_count": null,
   "metadata": {},
   "outputs": [],
   "source": []
  }
 ],
 "metadata": {
  "kernelspec": {
   "display_name": "Python 3 (ipykernel)",
   "language": "python",
   "name": "python3"
  },
  "language_info": {
   "codemirror_mode": {
    "name": "ipython",
    "version": 3
   },
   "file_extension": ".py",
   "mimetype": "text/x-python",
   "name": "python",
   "nbconvert_exporter": "python",
   "pygments_lexer": "ipython3",
   "version": "3.11.7"
  }
 },
 "nbformat": 4,
 "nbformat_minor": 4
}
