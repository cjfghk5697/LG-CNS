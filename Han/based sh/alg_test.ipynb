{
 "cells": [
  {
   "cell_type": "code",
   "execution_count": 10,
   "metadata": {},
   "outputs": [
    {
     "name": "stdout",
     "output_type": "stream",
     "text": [
      "C:\\Users\\cjfgh\\vscode\\LG-CNS\\Han\\based sh\\new weight copy\n"
     ]
    }
   ],
   "source": [
    "%cd \"C:\\Users\\cjfgh\\vscode\\LG-CNS\\Han\\based sh\\new weight copy\"\n"
   ]
  },
  {
   "cell_type": "code",
   "execution_count": 11,
   "metadata": {},
   "outputs": [
    {
     "name": "stdout",
     "output_type": "stream",
     "text": [
      "The autoreload extension is already loaded. To reload it, use:\n",
      "  %reload_ext autoreload\n"
     ]
    }
   ],
   "source": [
    "%load_ext autoreload\n",
    "%autoreload 2\n",
    "\n",
    "from util_0704 import *\n",
    "from myalgorithm import algorithm\n",
    "\n",
    "import pandas as pd\n",
    "\n",
    "\n",
    "import matplotlib as mpl\n",
    "from matplotlib import pyplot\n",
    "import numpy as np\n",
    "import seaborn as sns"
   ]
  },
  {
   "cell_type": "markdown",
   "metadata": {},
   "source": [
    "### 제출본"
   ]
  },
  {
   "cell_type": "code",
   "execution_count": 12,
   "metadata": {},
   "outputs": [
    {
     "name": "stdout",
     "output_type": "stream",
     "text": [
      "stage/STAGE1_1.json 100 700 3726.466000000001 (0.23252073184337407, -1.3268361749558673, 1.0855556925242031, -0.7877647576508691)\n",
      "stage/STAGE1_2.json 100 584 3392.1800000000007 (0.9057900982985309, -1.6236955326497144, 1.188846885574052, -0.7381880218451579)\n",
      "stage/STAGE1_3.json 200 168 3049.3615000000004 (1.2989936963062232, -1.0183464390515025, 1.0872174078796901, -1.2002423578592818)\n",
      "stage/STAGE1_4.json 200 172 2702.678999999999 (0.5997150533923661, -1.794534301915859, 0.9722667169624675, -0.5787119996034068)\n",
      "stage/STAGE1_5.json 300 58 2310.151 (0.413427346568526, -1.1199760280284468, 0.8498791881116289, -0.7345260747681681)\n",
      "stage/STAGE1_6.json 300 76 2552.2489999999993 (0.6602476083917721, -0.8390482059708125, 1.1815331653379733, -1.550467327483346)\n",
      "stage/STAGE1_7.json 100 664 3415.5339999999997 (1.0763700873240458, -1.0432362739960783, 0.9856992510252461, -1.0235882487914276)\n",
      "stage/STAGE1_8.json 100 348 3237.362 (0.2352038263211205, -0.44449815973640316, 0.731631509993137, -0.4527637507022312)\n",
      "stage/STAGE1_9.json 200 178 3087.0950000000007 (1.107352522155683, -0.3377431652688574, 0.8801314235863726, -1.407324136398307)\n",
      "stage/STAGE1_10.json 200 164 2576.986 (0.6858308095058864, -1.5689752163453492, 0.9854875474236713, -0.19963365298833985)\n",
      "stage/STAGE1_11.json 300 70 2453.849000000001 (1.167492202825806, -1.0122294232070632, 1.1412714342486696, -1.028532051140387)\n",
      "stage/STAGE1_12.json 300 82 2586.256333333333 (1.0149107671018003, -0.9618139856954142, 1.10610854677144, -1.0614889280190722)\n",
      "stage/STAGE1_13.json 100 1728 4948.554 (0.313393263285499, -2.881682534622285, 0.7777990618510365, -1.8589968801849879)\n",
      "stage/STAGE1_14.json 100 568 4225.308000000001 (0.9515999072120328, -0.3631070861751201, 1.1381262245546713, 0.13129840269374887)\n",
      "stage/STAGE1_15.json 200 434 4307.5225 (0.8050526367119767, 0.022348186926039848, 0.8243313156570742, 0.5636677773866672)\n",
      "stage/STAGE1_16.json 200 228 3343.8825000000006 (0.7530800280974831, -1.4273911427954686, 1.2586687650548085, -0.9141252117376901)\n",
      "stage/STAGE1_17.json 300 124 3505.8686666666663 (0.5399420684421044, -1.1175662271871862, 0.6245495828391603, -0.7580198483168092)\n",
      "stage/STAGE1_18.json 300 98 3613.619666666667 (0.9485694367982511, -1.1097552822865313, 1.2448256949981458, -0.6572332278170242)\n",
      "stage/TEST_K50_1.json 50 2392 3625.0180000000005 (0.8022201581970636, -0.7768623577477984, 1.4396642546654943, -1.4138748982374207)\n",
      "stage/TEST_K50_2.json 50 3858 4038.3720000000003 (0.9088133053886683, -0.37660523880394425, 1.2556043169562299, -1.810309686849624)\n",
      "stage/TEST_K100_1.json 100 962 3460.855 (0.700555603890555, -1.402102329133131, 0.6854186209807863, -1.500729075200934)\n",
      "stage/TEST_K100_2.json 100 868 3622.178 (1.679429971686722, -0.6878161597257808, 2.4122308300840776, -1.2222098177270053)\n",
      "stage/TEST_K200_1.json 200 176 3318.5809999999997 (0.3391842288286873, -1.052908136193237, 0.8242571836839114, -0.968251254911359)\n",
      "stage/TEST_K200_2.json 200 278 3250.234999999999 (1.1005587892721707, -0.9335989424996288, 1.2569944255665004, -0.9104701575954567)\n"
     ]
    }
   ],
   "source": [
    "timelimit = 60\n",
    "result=[]\n",
    "test_files=[f\"stage/STAGE1_{i}.json\" for i in range(1, 19)]+[\"stage/TEST_K50_1.json\", \"stage/TEST_K50_2.json\", \"stage/TEST_K100_1.json\",\"stage/TEST_K100_2.json\", \"stage/TEST_K200_1.json\", \"stage/TEST_K200_2.json\"]\n",
    "for test_file in test_files:\n",
    "    with open(test_file, 'r') as f:\n",
    "        prob = json.load(f)\n",
    "\n",
    "\n",
    "    K = prob['K']\n",
    "\n",
    "    ALL_ORDERS = [Order(order_info) for order_info in prob['ORDERS']]\n",
    "    ALL_RIDERS = [Rider(rider_info) for rider_info in prob['RIDERS']]\n",
    "\n",
    "    DIST = np.array(prob['DIST'])\n",
    "    for r in ALL_RIDERS:\n",
    "        r.T = np.round(DIST/r.speed + r.service_time).astype(int)\n",
    "\n",
    "    inf = float('inf')\n",
    "\n",
    "    timelimit = 60\n",
    "\n",
    "    processed_weight_comb_c, min_init_cost, min_weight_comb = algorithm(K, ALL_ORDERS, ALL_RIDERS, DIST, timelimit)\n",
    "    print(test_file, K, processed_weight_comb_c, min_init_cost, min_weight_comb)\n",
    "    result.append(min_init_cost)\n"
   ]
  },
  {
   "cell_type": "code",
   "execution_count": 32,
   "metadata": {},
   "outputs": [
    {
     "name": "stdout",
     "output_type": "stream",
     "text": [
      "total mean:0    3315.982769\n",
      "dtype: float64\n",
      "평균 이상 케이스 평균:0    3882.666889\n",
      "dtype: float64\n",
      "평균 이하 케이스 평균:0    2749.298648\n",
      "dtype: float64\n"
     ]
    }
   ],
   "source": [
    "print(f\"total mean:{df.mean()}\")\n",
    "print(f\"평균 이상 케이스 평균:{df[df>=df.mean()].mean()}\") \n",
    "print(f\"평균 이하 케이스 평균:{df[df<=df.mean()].mean()}\")"
   ]
  },
  {
   "cell_type": "code",
   "execution_count": 33,
   "metadata": {},
   "outputs": [
    {
     "data": {
      "text/html": [
       "<div>\n",
       "<style scoped>\n",
       "    .dataframe tbody tr th:only-of-type {\n",
       "        vertical-align: middle;\n",
       "    }\n",
       "\n",
       "    .dataframe tbody tr th {\n",
       "        vertical-align: top;\n",
       "    }\n",
       "\n",
       "    .dataframe thead th {\n",
       "        text-align: right;\n",
       "    }\n",
       "</style>\n",
       "<table border=\"1\" class=\"dataframe\">\n",
       "  <thead>\n",
       "    <tr style=\"text-align: right;\">\n",
       "      <th></th>\n",
       "      <th>0</th>\n",
       "    </tr>\n",
       "  </thead>\n",
       "  <tbody>\n",
       "    <tr>\n",
       "      <th>1</th>\n",
       "      <td>3790.608000</td>\n",
       "    </tr>\n",
       "    <tr>\n",
       "      <th>2</th>\n",
       "      <td>3369.778000</td>\n",
       "    </tr>\n",
       "    <tr>\n",
       "      <th>3</th>\n",
       "      <td>3047.829500</td>\n",
       "    </tr>\n",
       "    <tr>\n",
       "      <th>4</th>\n",
       "      <td>2699.685500</td>\n",
       "    </tr>\n",
       "    <tr>\n",
       "      <th>5</th>\n",
       "      <td>2338.156333</td>\n",
       "    </tr>\n",
       "    <tr>\n",
       "      <th>6</th>\n",
       "      <td>2674.389667</td>\n",
       "    </tr>\n",
       "    <tr>\n",
       "      <th>7</th>\n",
       "      <td>3510.656000</td>\n",
       "    </tr>\n",
       "    <tr>\n",
       "      <th>8</th>\n",
       "      <td>3231.938000</td>\n",
       "    </tr>\n",
       "    <tr>\n",
       "      <th>9</th>\n",
       "      <td>3177.473500</td>\n",
       "    </tr>\n",
       "    <tr>\n",
       "      <th>10</th>\n",
       "      <td>2567.313000</td>\n",
       "    </tr>\n",
       "    <tr>\n",
       "      <th>11</th>\n",
       "      <td>2489.754667</td>\n",
       "    </tr>\n",
       "    <tr>\n",
       "      <th>12</th>\n",
       "      <td>2517.147667</td>\n",
       "    </tr>\n",
       "    <tr>\n",
       "      <th>13</th>\n",
       "      <td>5031.158000</td>\n",
       "    </tr>\n",
       "    <tr>\n",
       "      <th>14</th>\n",
       "      <td>4250.552000</td>\n",
       "    </tr>\n",
       "    <tr>\n",
       "      <th>15</th>\n",
       "      <td>4389.129500</td>\n",
       "    </tr>\n",
       "    <tr>\n",
       "      <th>16</th>\n",
       "      <td>3359.662500</td>\n",
       "    </tr>\n",
       "    <tr>\n",
       "      <th>17</th>\n",
       "      <td>3613.234333</td>\n",
       "    </tr>\n",
       "    <tr>\n",
       "      <th>18</th>\n",
       "      <td>3629.223667</td>\n",
       "    </tr>\n",
       "  </tbody>\n",
       "</table>\n",
       "</div>"
      ],
      "text/plain": [
       "              0\n",
       "1   3790.608000\n",
       "2   3369.778000\n",
       "3   3047.829500\n",
       "4   2699.685500\n",
       "5   2338.156333\n",
       "6   2674.389667\n",
       "7   3510.656000\n",
       "8   3231.938000\n",
       "9   3177.473500\n",
       "10  2567.313000\n",
       "11  2489.754667\n",
       "12  2517.147667\n",
       "13  5031.158000\n",
       "14  4250.552000\n",
       "15  4389.129500\n",
       "16  3359.662500\n",
       "17  3613.234333\n",
       "18  3629.223667"
      ]
     },
     "execution_count": 33,
     "metadata": {},
     "output_type": "execute_result"
    }
   ],
   "source": [
    "df"
   ]
  },
  {
   "cell_type": "code",
   "execution_count": null,
   "metadata": {},
   "outputs": [],
   "source": []
  }
 ],
 "metadata": {
  "kernelspec": {
   "display_name": "Python 3 (ipykernel)",
   "language": "python",
   "name": "python3"
  },
  "language_info": {
   "codemirror_mode": {
    "name": "ipython",
    "version": 3
   },
   "file_extension": ".py",
   "mimetype": "text/x-python",
   "name": "python",
   "nbconvert_exporter": "python",
   "pygments_lexer": "ipython3",
   "version": "3.11.7"
  }
 },
 "nbformat": 4,
 "nbformat_minor": 4
}
