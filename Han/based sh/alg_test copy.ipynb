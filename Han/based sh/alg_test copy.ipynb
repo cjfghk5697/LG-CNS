{
 "cells": [
  {
   "cell_type": "code",
   "execution_count": 2,
   "metadata": {},
   "outputs": [
    {
     "name": "stdout",
     "output_type": "stream",
     "text": [
      "C:\\Users\\cjfgh\\vscode\\LG-CNS\\Han\\based sh\\new weight\n"
     ]
    }
   ],
   "source": [
    "%cd \"C:\\Users\\cjfgh\\vscode\\LG-CNS\\Han\\based sh\\new weight\"\n"
   ]
  },
  {
   "cell_type": "code",
   "execution_count": 12,
   "metadata": {},
   "outputs": [
    {
     "name": "stdout",
     "output_type": "stream",
     "text": [
      "The autoreload extension is already loaded. To reload it, use:\n",
      "  %reload_ext autoreload\n"
     ]
    }
   ],
   "source": [
    "%load_ext autoreload\n",
    "%autoreload 2\n",
    "\n",
    "from util_0704 import *\n",
    "from myalgorithm import algorithm\n",
    "\n",
    "import pandas as pd\n",
    "\n",
    "\n",
    "import matplotlib as mpl\n",
    "from matplotlib import pyplot\n",
    "import numpy as np\n",
    "import seaborn as sns"
   ]
  },
  {
   "cell_type": "markdown",
   "metadata": {},
   "source": [
    "### 제출본"
   ]
  },
  {
   "cell_type": "code",
   "execution_count": null,
   "metadata": {},
   "outputs": [],
   "source": []
  },
  {
   "cell_type": "code",
   "execution_count": 15,
   "metadata": {},
   "outputs": [
    {
     "name": "stdout",
     "output_type": "stream",
     "text": [
      "stage/STAGE1_1.json 100 502 3752.5100000000007 (0.8626017635790562, 0.4086592844413013, 1.7247218680652046, -1.1672141875212299)\n",
      "stage/STAGE1_2.json 100 518 3362.6820000000007 (1.4587558480171037, -0.87885563132328, 1.5772929461479708, 0.057789746267519135)\n",
      "stage/STAGE1_3.json 200 166 3046.7194999999997 (0.9574663415720077, -1.1777166856371264, 1.3143033208704755, -0.988029185902074)\n"
     ]
    }
   ],
   "source": [
    "timelimit = 60\n",
    "result=[]\n",
    "test_files=[f\"stage/STAGE1_{i}.json\" for i in range(1, 19)]+[\"stage/TEST_K50_1.json\", \"stage/TEST_K50_2.json\", \"stage/TEST_K100_1.json\",\"stage/TEST_K100_2.json\", \"stage/TEST_K200_1.json\", \"stage/TEST_K200_2.json\"]\n",
    "for test_file in test_files:\n",
    "    with open(test_file, 'r') as f:\n",
    "        prob = json.load(f)\n",
    "\n",
    "\n",
    "    K = prob['K']\n",
    "\n",
    "    ALL_ORDERS = [Order(order_info) for order_info in prob['ORDERS']]\n",
    "    ALL_RIDERS = [Rider(rider_info) for rider_info in prob['RIDERS']]\n",
    "\n",
    "    DIST = np.array(prob['DIST'])\n",
    "    for r in ALL_RIDERS:\n",
    "        r.T = np.round(DIST/r.speed + r.service_time).astype(int)\n",
    "\n",
    "    inf = float('inf')\n",
    "\n",
    "    timelimit = 60\n",
    "\n",
    "    processed_weight_comb_c, min_init_cost, min_weight_comb = algorithm(K, ALL_ORDERS, ALL_RIDERS, DIST, timelimit)\n",
    "    print(test_file, K, processed_weight_comb_c, min_init_cost, min_weight_comb)\n",
    "    result.append(min_init_cost)\n"
   ]
  },
  {
   "cell_type": "code",
   "execution_count": 19,
   "metadata": {},
   "outputs": [
    {
     "name": "stdout",
     "output_type": "stream",
     "text": [
      "total mean:0    3270.614687\n",
      "dtype: float64\n",
      "평균 이상 케이스 평균:0    3864.16625\n",
      "dtype: float64\n",
      "평균 이하 케이스 평균:0    2677.063125\n",
      "dtype: float64\n"
     ]
    }
   ],
   "source": [
    "print(f\"total mean:{df.mean()}\")\n",
    "print(f\"평균 이상 케이스 평균:{df[df>=df.mean()].mean()}\") \n",
    "print(f\"평균 이하 케이스 평균:{df[df<=df.mean()].mean()}\")"
   ]
  },
  {
   "cell_type": "code",
   "execution_count": null,
   "metadata": {},
   "outputs": [],
   "source": []
  }
 ],
 "metadata": {
  "kernelspec": {
   "display_name": "Python 3 (ipykernel)",
   "language": "python",
   "name": "python3"
  },
  "language_info": {
   "codemirror_mode": {
    "name": "ipython",
    "version": 3
   },
   "file_extension": ".py",
   "mimetype": "text/x-python",
   "name": "python",
   "nbconvert_exporter": "python",
   "pygments_lexer": "ipython3",
   "version": "3.11.7"
  }
 },
 "nbformat": 4,
 "nbformat_minor": 4
}
