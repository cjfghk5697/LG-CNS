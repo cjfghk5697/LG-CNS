{
 "cells": [
  {
   "cell_type": "code",
   "execution_count": 1,
   "metadata": {},
   "outputs": [],
   "source": [
    "import json\n",
    "import numpy as np\n",
    "import time\n",
    "from util import Order, Rider, solution_check\n",
    "from myalgorithm import algorithm"
   ]
  },
  {
   "cell_type": "markdown",
   "metadata": {},
   "source": [
    "### 제출본"
   ]
  },
  {
   "cell_type": "code",
   "execution_count": 12,
   "metadata": {},
   "outputs": [
    {
     "name": "stdout",
     "output_type": "stream",
     "text": [
      "Best obj = 7322.13\n",
      "Best obj = 7262.54\n",
      "Best obj = 7254.215000000001\n",
      "Best obj = 7253.729\n",
      "Best obj = 7249.057000000001\n",
      "Best obj = 7203.173000000001\n",
      "Best obj = 7195.850000000001\n",
      "Best obj = 7194.715999999999\n",
      "Best obj = 7185.4000000000015\n",
      "Best obj = 7167.620000000001\n",
      "Best obj = 7118.818\n",
      "Best obj = 7115.725\n",
      "Best obj = 7086.397000000001\n",
      "Best obj = 7011.817999999999\n",
      "Best obj = 7009.58\n",
      "Best obj = 6978.48\n",
      "Best obj = 6953.369999999999\n",
      "Best obj = 6953.168999999999\n",
      "Best obj = 6942.506999999999\n",
      "Best obj = 6931.3189999999995\n",
      "Best obj = 6911.227999999999\n",
      "Best obj = 6902.06\n",
      "Best obj = 6894.958999999999\n",
      "Best obj = 6880.210999999998\n",
      "Best obj = 6872.377999999998\n",
      "Best obj = 6863.413999999999\n",
      "Best obj = 6847.445999999999\n",
      "Best obj = 6824.450999999998\n",
      "Best obj = 6811.310999999999\n",
      "Best obj = 6807.412999999998\n",
      "Best obj = 6795.573999999999\n",
      "Best obj = 6736.936999999998\n",
      "Best obj = 6690.76\n",
      "Best obj = 6600.684\n",
      "Best obj = 6525.130000000001\n",
      "Best obj = 6457.7880000000005\n",
      "Best obj = 6414.21\n",
      "Best obj = 6349.018000000002\n",
      "Best obj = 6293.372\n",
      "Best obj = 6229.473000000001\n"
     ]
    },
    {
     "ename": "KeyboardInterrupt",
     "evalue": "",
     "output_type": "error",
     "traceback": [
      "\u001b[1;31m---------------------------------------------------------------------------\u001b[0m",
      "\u001b[1;31mKeyboardInterrupt\u001b[0m                         Traceback (most recent call last)",
      "Cell \u001b[1;32mIn[12], line 28\u001b[0m\n\u001b[0;32m     26\u001b[0m solution \u001b[38;5;241m=\u001b[39m \u001b[38;5;28;01mNone\u001b[39;00m\n\u001b[0;32m     27\u001b[0m \u001b[38;5;28;01mtry\u001b[39;00m:\n\u001b[1;32m---> 28\u001b[0m     solution \u001b[38;5;241m=\u001b[39m \u001b[43malgorithm\u001b[49m\u001b[43m(\u001b[49m\u001b[43mK\u001b[49m\u001b[43m,\u001b[49m\u001b[43m \u001b[49m\u001b[43mALL_ORDERS\u001b[49m\u001b[43m,\u001b[49m\u001b[43m \u001b[49m\u001b[43mALL_RIDERS\u001b[49m\u001b[43m,\u001b[49m\u001b[43m \u001b[49m\u001b[43mDIST\u001b[49m\u001b[43m,\u001b[49m\u001b[43m \u001b[49m\u001b[43mtimelimit\u001b[49m\u001b[43m)\u001b[49m\n\u001b[0;32m     29\u001b[0m \u001b[38;5;28;01mexcept\u001b[39;00m \u001b[38;5;167;01mException\u001b[39;00m \u001b[38;5;28;01mas\u001b[39;00m e:\n\u001b[0;32m     30\u001b[0m     exception \u001b[38;5;241m=\u001b[39m \u001b[38;5;124mf\u001b[39m\u001b[38;5;124m'\u001b[39m\u001b[38;5;132;01m{\u001b[39;00me\u001b[38;5;132;01m}\u001b[39;00m\u001b[38;5;124m'\u001b[39m\n",
      "File \u001b[1;32mc:\\Users\\cjfgh\\vscode\\LG-CNS\\Han\\ortools\\myalgorithm.py:86\u001b[0m, in \u001b[0;36malgorithm\u001b[1;34m(K, all_orders, all_riders, dist_mat, timelimit)\u001b[0m\n\u001b[0;32m     84\u001b[0m \u001b[38;5;28;01mif\u001b[39;00m new_rider \u001b[38;5;129;01mis\u001b[39;00m \u001b[38;5;129;01mnot\u001b[39;00m \u001b[38;5;28;01mNone\u001b[39;00m:\n\u001b[0;32m     85\u001b[0m     old_rider \u001b[38;5;241m=\u001b[39m bundle\u001b[38;5;241m.\u001b[39mrider\n\u001b[1;32m---> 86\u001b[0m     \u001b[38;5;28;01mif\u001b[39;00m \u001b[43mtry_bundle_rider_changing\u001b[49m\u001b[43m(\u001b[49m\u001b[43mall_orders\u001b[49m\u001b[43m,\u001b[49m\u001b[43m \u001b[49m\u001b[43mbundle\u001b[49m\u001b[43m,\u001b[49m\u001b[43m \u001b[49m\u001b[43mnew_rider\u001b[49m\u001b[43m)\u001b[49m:\n\u001b[0;32m     87\u001b[0m         old_rider\u001b[38;5;241m.\u001b[39mavailable_number \u001b[38;5;241m+\u001b[39m\u001b[38;5;241m=\u001b[39m \u001b[38;5;241m1\u001b[39m\n\u001b[0;32m     88\u001b[0m         new_rider\u001b[38;5;241m.\u001b[39mavailable_number \u001b[38;5;241m-\u001b[39m\u001b[38;5;241m=\u001b[39m \u001b[38;5;241m1\u001b[39m\n",
      "File \u001b[1;32mc:\\Users\\cjfgh\\vscode\\LG-CNS\\Han\\ortools\\util_0716.py:868\u001b[0m, in \u001b[0;36mtry_bundle_rider_changing\u001b[1;34m(all_orders, bundle, rider)\u001b[0m\n\u001b[0;32m    866\u001b[0m \u001b[38;5;28;01mif\u001b[39;00m bundle\u001b[38;5;241m.\u001b[39mrider\u001b[38;5;241m.\u001b[39mtype \u001b[38;5;241m!=\u001b[39m rider\u001b[38;5;241m.\u001b[39mtype \u001b[38;5;129;01mand\u001b[39;00m bundle\u001b[38;5;241m.\u001b[39mtotal_volume \u001b[38;5;241m<\u001b[39m\u001b[38;5;241m=\u001b[39m rider\u001b[38;5;241m.\u001b[39mcapa:\n\u001b[0;32m    867\u001b[0m     orders \u001b[38;5;241m=\u001b[39m bundle\u001b[38;5;241m.\u001b[39mshop_seq\n\u001b[1;32m--> 868\u001b[0m     \u001b[38;5;28;01mfor\u001b[39;00m shop_pem \u001b[38;5;129;01min\u001b[39;00m \u001b[43mpermutations\u001b[49m\u001b[43m(\u001b[49m\u001b[43morders\u001b[49m\u001b[43m)\u001b[49m:\n\u001b[0;32m    869\u001b[0m         \u001b[38;5;28;01mfor\u001b[39;00m dlv_pem \u001b[38;5;129;01min\u001b[39;00m permutations(orders):\n\u001b[0;32m    870\u001b[0m             feasibility_check \u001b[38;5;241m=\u001b[39m test_route_feasibility(all_orders, rider, shop_pem, dlv_pem)\n",
      "\u001b[1;31mKeyboardInterrupt\u001b[0m: "
     ]
    }
   ],
   "source": [
    "import json\n",
    "import numpy as np\n",
    "import time\n",
    "from util import Order, Rider, solution_check\n",
    "from myalgorithm import algorithm\n",
    "\n",
    "timelimit = 30\n",
    "problem_file = f\"C:/Users/cjfgh/vscode/LG-CNS/@shared/testfile/STAGE1_1.json\"\n",
    "\n",
    "with open(problem_file, 'r') as f:\n",
    "    prob = json.load(f)\n",
    "\n",
    "K = prob['K']\n",
    "\n",
    "ALL_ORDERS = [Order(order_info) for order_info in prob['ORDERS']]\n",
    "ALL_RIDERS = [Rider(rider_info) for rider_info in prob['RIDERS']]\n",
    "\n",
    "DIST = np.array(prob['DIST'])\n",
    "for r in ALL_RIDERS:\n",
    "    r.T = np.round(DIST / r.speed + r.service_time)\n",
    "\n",
    "alg_start_time = time.time()\n",
    "\n",
    "exception = None\n",
    "\n",
    "solution = None\n",
    "try:\n",
    "    solution = algorithm(K, ALL_ORDERS, ALL_RIDERS, DIST, timelimit)\n",
    "except Exception as e:\n",
    "    exception = f'{e}'\n",
    "\n",
    "alg_end_time = time.time()\n",
    "\n",
    "checked_solution = solution_check(K, ALL_ORDERS, ALL_RIDERS, DIST, solution)\n",
    "\n",
    "checked_solution['time'] = alg_end_time - alg_start_time\n",
    "checked_solution['timelimit_exception'] = (alg_end_time - alg_start_time) > timelimit + 1\n",
    "checked_solution['exception'] = exception\n",
    "\n",
    "checked_solution['prob_name'] = prob['name']\n",
    "checked_solution['prob_file'] = problem_file\n",
    "\n",
    "print(checked_solution)\n"
   ]
  },
  {
   "cell_type": "code",
   "execution_count": 26,
   "metadata": {},
   "outputs": [
    {
     "name": "stdout",
     "output_type": "stream",
     "text": [
      "There are missing or duplicated delivery points\n"
     ]
    }
   ],
   "source": [
    "print(checked_solution)"
   ]
  },
  {
   "cell_type": "code",
   "execution_count": null,
   "metadata": {},
   "outputs": [],
   "source": []
  }
 ],
 "metadata": {
  "kernelspec": {
   "display_name": "Python 3 (ipykernel)",
   "language": "python",
   "name": "python3"
  },
  "language_info": {
   "codemirror_mode": {
    "name": "ipython",
    "version": 3
   },
   "file_extension": ".py",
   "mimetype": "text/x-python",
   "name": "python",
   "nbconvert_exporter": "python",
   "pygments_lexer": "ipython3",
   "version": "3.11.2"
  }
 },
 "nbformat": 4,
 "nbformat_minor": 4
}
