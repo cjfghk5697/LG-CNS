{
 "cells": [
  {
   "cell_type": "code",
   "execution_count": 20,
   "metadata": {},
   "outputs": [],
   "source": [
    "import json\n",
    "import numpy as np\n",
    "import time\n",
    "from util import Order, Rider, solution_check\n",
    "from myalgorithm import algorithm"
   ]
  },
  {
   "cell_type": "markdown",
   "metadata": {},
   "source": [
    "### 제출본"
   ]
  },
  {
   "cell_type": "code",
   "execution_count": 22,
   "metadata": {},
   "outputs": [
    {
     "ename": "TypeError",
     "evalue": "'str' object does not support item assignment",
     "output_type": "error",
     "traceback": [
      "\u001b[1;31m---------------------------------------------------------------------------\u001b[0m",
      "\u001b[1;31mTypeError\u001b[0m                                 Traceback (most recent call last)",
      "Cell \u001b[1;32mIn[22], line 36\u001b[0m\n\u001b[0;32m     33\u001b[0m alg_end_time \u001b[38;5;241m=\u001b[39m time\u001b[38;5;241m.\u001b[39mtime()\n\u001b[0;32m     35\u001b[0m checked_solution \u001b[38;5;241m=\u001b[39m solution_check(K, ALL_ORDERS, ALL_RIDERS, DIST, solution)\n\u001b[1;32m---> 36\u001b[0m \u001b[43mchecked_solution\u001b[49m\u001b[43m[\u001b[49m\u001b[38;5;124;43m'\u001b[39;49m\u001b[38;5;124;43mtime\u001b[39;49m\u001b[38;5;124;43m'\u001b[39;49m\u001b[43m]\u001b[49m \u001b[38;5;241m=\u001b[39m alg_end_time \u001b[38;5;241m-\u001b[39m alg_start_time\n\u001b[0;32m     37\u001b[0m checked_solution[\u001b[38;5;124m'\u001b[39m\u001b[38;5;124mtimelimit_exception\u001b[39m\u001b[38;5;124m'\u001b[39m] \u001b[38;5;241m=\u001b[39m (alg_end_time \u001b[38;5;241m-\u001b[39m alg_start_time) \u001b[38;5;241m>\u001b[39m timelimit \u001b[38;5;241m+\u001b[39m \u001b[38;5;241m1\u001b[39m\n\u001b[0;32m     38\u001b[0m checked_solution[\u001b[38;5;124m'\u001b[39m\u001b[38;5;124mexception\u001b[39m\u001b[38;5;124m'\u001b[39m] \u001b[38;5;241m=\u001b[39m exception\n",
      "\u001b[1;31mTypeError\u001b[0m: 'str' object does not support item assignment"
     ]
    }
   ],
   "source": [
    "import json\n",
    "import numpy as np\n",
    "import time\n",
    "from util import Order, Rider, solution_check\n",
    "from myalgorithm import algorithm\n",
    "\n",
    "timelimit = 30\n",
    "problem_file = f\"C:/Users/cjfgh/vscode/LG-CNS/@shared/testfile/STAGE1_1.json\"\n",
    "\n",
    "with open(problem_file, 'r') as f:\n",
    "    prob = json.load(f)\n",
    "\n",
    "K = prob['K']\n",
    "\n",
    "ALL_ORDERS = [Order(order_info) for order_info in prob['ORDERS']]\n",
    "ALL_RIDERS = [Rider(rider_info) for rider_info in prob['RIDERS']]\n",
    "\n",
    "DIST = np.array(prob['DIST'])\n",
    "for r in ALL_RIDERS:\n",
    "    r.T = np.round(DIST/r.speed + r.service_time)\n",
    "\n",
    "alg_start_time = time.time()\n",
    "\n",
    "exception = None\n",
    "\n",
    "solution = None\n",
    "try:\n",
    "    # Run algorithm!\n",
    "    solution = algorithm(K, ALL_ORDERS, ALL_RIDERS, DIST, timelimit)\n",
    "except Exception as e:\n",
    "    exception = f'{e}'\n",
    "\n",
    "alg_end_time = time.time()\n",
    "\n",
    "checked_solution = solution_check(K, ALL_ORDERS, ALL_RIDERS, DIST, solution)\n",
    "\n",
    "if isinstance(checked_solution, str):\n",
    "    result = {\n",
    "        'time': alg_end_time - alg_start_time,\n",
    "        'timelimit_exception': (alg_end_time - alg_start_time) > timelimit + 1,\n",
    "        'exception': exception,\n",
    "        'infeasibility': checked_solution\n",
    "    }\n",
    "else:\n",
    "    result = checked_solution\n",
    "    result['time'] = alg_end_time - alg_start_time\n",
    "    result['timelimit_exception'] = (alg_end_time - alg_start_time) > timelimit + 1\n",
    "    result['exception'] = exception\n",
    "\n",
    "result['prob_name'] = prob['name']\n",
    "result['prob_file'] = problem_file\n",
    "\n",
    "print(result)\n"
   ]
  },
  {
   "cell_type": "code",
   "execution_count": 23,
   "metadata": {},
   "outputs": [
    {
     "name": "stdout",
     "output_type": "stream",
     "text": [
      "There are missing or duplicated delivery points\n"
     ]
    }
   ],
   "source": [
    "print(checked_solution)"
   ]
  },
  {
   "cell_type": "code",
   "execution_count": null,
   "metadata": {},
   "outputs": [],
   "source": []
  }
 ],
 "metadata": {
  "kernelspec": {
   "display_name": "Python 3 (ipykernel)",
   "language": "python",
   "name": "python3"
  },
  "language_info": {
   "codemirror_mode": {
    "name": "ipython",
    "version": 3
   },
   "file_extension": ".py",
   "mimetype": "text/x-python",
   "name": "python",
   "nbconvert_exporter": "python",
   "pygments_lexer": "ipython3",
   "version": "3.11.2"
  }
 },
 "nbformat": 4,
 "nbformat_minor": 4
}
