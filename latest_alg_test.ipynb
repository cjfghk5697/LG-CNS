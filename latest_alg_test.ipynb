{
 "cells": [
  {
   "cell_type": "code",
   "execution_count": 1,
   "metadata": {},
   "outputs": [],
   "source": [
    "%load_ext autoreload\n",
    "%autoreload 2\n",
    "\n",
    "\n",
    "from util import *\n",
    "from myalgorithm import algorithm\n",
    "\n",
    "import pandas as pd\n",
    "\n",
    "\n",
    "import matplotlib as mpl\n",
    "from matplotlib import pyplot\n",
    "import numpy as np\n",
    "import seaborn as sns"
   ]
  },
  {
   "cell_type": "markdown",
   "metadata": {},
   "source": [
    "### 제출본"
   ]
  },
  {
   "cell_type": "markdown",
   "metadata": {},
   "source": []
  },
  {
   "cell_type": "code",
   "execution_count": 5,
   "metadata": {},
   "outputs": [
    {
     "name": "stdout",
     "output_type": "stream",
     "text": [
      "break\n",
      "STAGE1_1.json: 3862.5060000000008\n",
      "break\n",
      "STAGE1_2.json: 3439.160000000001\n",
      "break\n"
     ]
    }
   ],
   "source": [
    "import pandas as pd\n",
    "\n",
    "result=[]\n",
    "timelimit = 60\n",
    "for i in range(1, 19):\n",
    "    problem_file = f'@shared/testfile/STAGE1_{i}.json'\n",
    "    with open(problem_file, 'r') as f:\n",
    "        prob = json.load(f)\n",
    "\n",
    "    K = prob['K']\n",
    "\n",
    "    ALL_ORDERS = [Order(order_info) for order_info in prob['ORDERS']]\n",
    "    ALL_RIDERS = [Rider(rider_info) for rider_info in prob['RIDERS']]\n",
    "\n",
    "    DIST = np.array(prob['DIST'])\n",
    "\n",
    "    solution = algorithm(K, ALL_ORDERS, ALL_RIDERS, DIST, timelimit)\n",
    "    \n",
    "    with open(problem_file, 'r') as f:\n",
    "        prob = json.load(f)\n",
    "        K = prob['K']\n",
    "        ALL_ORDERS = [Order(order_info) for order_info in prob['ORDERS']]\n",
    "        ALL_RIDERS = [Rider(rider_info) for rider_info in prob['RIDERS']]\n",
    "        DIST = np.array(prob['DIST'])\n",
    "        for r in ALL_RIDERS:\n",
    "            r.T = np.round(DIST/r.speed + r.service_time).astype(int)\n",
    "\n",
    "    \n",
    "        checked_solution = solution_check(K, ALL_ORDERS, ALL_RIDERS, DIST, solution)\n",
    "\n",
    "        checked_solution['avg_cost']\n",
    "    result.append(checked_solution['avg_cost'])\n",
    "    print(f\"STAGE1_{i}.json: {checked_solution['avg_cost']}\")\n",
    "\n",
    "df=pd.DataFrame(result)\n"
   ]
  },
  {
   "cell_type": "code",
   "execution_count": null,
   "metadata": {},
   "outputs": [
    {
     "data": {
      "text/plain": [
       "2988.957999999999"
      ]
     },
     "execution_count": 20,
     "metadata": {},
     "output_type": "execute_result"
    }
   ],
   "source": [
    "print(f\"total mean:{df.mean()}\")\n",
    "print(f\"평균 이상 케이스 평균:{df[df>=df.mean()].mean()}\") \n",
    "print(f\"평균 이하 케이스 평균:{df[df<=df.mean()].mean()}\")"
   ]
  },
  {
   "cell_type": "code",
   "execution_count": null,
   "metadata": {},
   "outputs": [],
   "source": []
  }
 ],
 "metadata": {
  "kernelspec": {
   "display_name": "Python 3 (ipykernel)",
   "language": "python",
   "name": "python3"
  },
  "language_info": {
   "codemirror_mode": {
    "name": "ipython",
    "version": 3
   },
   "file_extension": ".py",
   "mimetype": "text/x-python",
   "name": "python",
   "nbconvert_exporter": "python",
   "pygments_lexer": "ipython3",
   "version": "3.11.2"
  }
 },
 "nbformat": 4,
 "nbformat_minor": 4
}
